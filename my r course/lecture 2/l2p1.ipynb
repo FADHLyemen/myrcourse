{
 "cells": [
  {
   "cell_type": "code",
   "execution_count": 1,
   "metadata": {},
   "outputs": [
    {
     "data": {
      "text/html": [
       "<ol class=list-inline>\n",
       "\t<li>1</li>\n",
       "\t<li>2</li>\n",
       "\t<li>3</li>\n",
       "\t<li>4</li>\n",
       "\t<li>5</li>\n",
       "\t<li>6</li>\n",
       "\t<li>7</li>\n",
       "\t<li>8</li>\n",
       "\t<li>9</li>\n",
       "\t<li>10</li>\n",
       "</ol>\n"
      ],
      "text/latex": [
       "\\begin{enumerate*}\n",
       "\\item 1\n",
       "\\item 2\n",
       "\\item 3\n",
       "\\item 4\n",
       "\\item 5\n",
       "\\item 6\n",
       "\\item 7\n",
       "\\item 8\n",
       "\\item 9\n",
       "\\item 10\n",
       "\\end{enumerate*}\n"
      ],
      "text/markdown": [
       "1. 1\n",
       "2. 2\n",
       "3. 3\n",
       "4. 4\n",
       "5. 5\n",
       "6. 6\n",
       "7. 7\n",
       "8. 8\n",
       "9. 9\n",
       "10. 10\n",
       "\n",
       "\n"
      ],
      "text/plain": [
       " [1]  1  2  3  4  5  6  7  8  9 10"
      ]
     },
     "metadata": {},
     "output_type": "display_data"
    }
   ],
   "source": [
    "1:10"
   ]
  },
  {
   "attachments": {
    "image.png": {
     "image/png": "[encoded data removed]"
    }
   },
   "cell_type": "markdown",
   "metadata": {},
   "source": [
    "\n",
    "![image.png](attachment:image.png)"
   ]
  },
  {
   "cell_type": "code",
   "execution_count": 36,
   "metadata": {},
   "outputs": [
    {
     "data": {
      "text/html": [
       "<ol class=list-inline>\n",
       "\t<li>2</li>\n",
       "\t<li>2</li>\n",
       "\t<li>4</li>\n",
       "</ol>\n"
      ],
      "text/latex": [
       "\\begin{enumerate*}\n",
       "\\item 2\n",
       "\\item 2\n",
       "\\item 4\n",
       "\\end{enumerate*}\n"
      ],
      "text/markdown": [
       "1. 2\n",
       "2. 2\n",
       "3. 4\n",
       "\n",
       "\n"
      ],
      "text/plain": [
       "[1] 2 2 4"
      ]
     },
     "metadata": {},
     "output_type": "display_data"
    }
   ],
   "source": [
    "sample(1:10,3,replace=T)"
   ]
  },
  {
   "cell_type": "code",
   "execution_count": 45,
   "metadata": {},
   "outputs": [
    {
     "data": {
      "text/html": [
       "<ol class=list-inline>\n",
       "\t<li>'ahmed'</li>\n",
       "\t<li>'fadl'</li>\n",
       "\t<li>'fadl'</li>\n",
       "\t<li>'fadl'</li>\n",
       "\t<li>'ahmed'</li>\n",
       "\t<li>'fadl'</li>\n",
       "\t<li>'ahmed'</li>\n",
       "\t<li>'fadl'</li>\n",
       "\t<li>'fadl'</li>\n",
       "\t<li>'ahmed'</li>\n",
       "</ol>\n"
      ],
      "text/latex": [
       "\\begin{enumerate*}\n",
       "\\item 'ahmed'\n",
       "\\item 'fadl'\n",
       "\\item 'fadl'\n",
       "\\item 'fadl'\n",
       "\\item 'ahmed'\n",
       "\\item 'fadl'\n",
       "\\item 'ahmed'\n",
       "\\item 'fadl'\n",
       "\\item 'fadl'\n",
       "\\item 'ahmed'\n",
       "\\end{enumerate*}\n"
      ],
      "text/markdown": [
       "1. 'ahmed'\n",
       "2. 'fadl'\n",
       "3. 'fadl'\n",
       "4. 'fadl'\n",
       "5. 'ahmed'\n",
       "6. 'fadl'\n",
       "7. 'ahmed'\n",
       "8. 'fadl'\n",
       "9. 'fadl'\n",
       "10. 'ahmed'\n",
       "\n",
       "\n"
      ],
      "text/plain": [
       " [1] \"ahmed\" \"fadl\"  \"fadl\"  \"fadl\"  \"ahmed\" \"fadl\"  \"ahmed\" \"fadl\"  \"fadl\" \n",
       "[10] \"ahmed\""
      ]
     },
     "metadata": {},
     "output_type": "display_data"
    }
   ],
   "source": [
    "sample(c(\"ahmed\",\"fadl\"),10,replace=T)"
   ]
  },
  {
   "attachments": {
    "image.png": {
     "image/png": "[encoded data removed]"
    }
   },
   "cell_type": "markdown",
   "metadata": {},
   "source": [
    "![image.png](attachment:image.png)"
   ]
  },
  {
   "cell_type": "code",
   "execution_count": 48,
   "metadata": {},
   "outputs": [
    {
     "data": {
      "text/html": [
       "<ol class=list-inline>\n",
       "\t<li>3.32854248955846</li>\n",
       "\t<li>3.42981012072414</li>\n",
       "\t<li>5.51136359758675</li>\n",
       "\t<li>9.08712037303485</li>\n",
       "</ol>\n"
      ],
      "text/latex": [
       "\\begin{enumerate*}\n",
       "\\item 3.32854248955846\n",
       "\\item 3.42981012072414\n",
       "\\item 5.51136359758675\n",
       "\\item 9.08712037303485\n",
       "\\end{enumerate*}\n"
      ],
      "text/markdown": [
       "1. 3.32854248955846\n",
       "2. 3.42981012072414\n",
       "3. 5.51136359758675\n",
       "4. 9.08712037303485\n",
       "\n",
       "\n"
      ],
      "text/plain": [
       "[1] 3.328542 3.429810 5.511364 9.087120"
      ]
     },
     "metadata": {},
     "output_type": "display_data"
    }
   ],
   "source": [
    "runif(4,1,10)"
   ]
  },
  {
   "attachments": {
    "image.png": {
     "image/png": "[encoded data removed]"
    }
   },
   "cell_type": "markdown",
   "metadata": {},
   "source": [
    "\n",
    "![image.png](attachment:image.png)\n"
   ]
  },
  {
   "cell_type": "code",
   "execution_count": 38,
   "metadata": {},
   "outputs": [
    {
     "data": {
      "text/html": [
       "<ol class=list-inline>\n",
       "\t<li>'fadl'</li>\n",
       "\t<li>'mo'</li>\n",
       "\t<li>'fadl'</li>\n",
       "\t<li>'mo'</li>\n",
       "\t<li>'fadl'</li>\n",
       "\t<li>'mo'</li>\n",
       "\t<li>'fadl'</li>\n",
       "\t<li>'mo'</li>\n",
       "</ol>\n"
      ],
      "text/latex": [
       "\\begin{enumerate*}\n",
       "\\item 'fadl'\n",
       "\\item 'mo'\n",
       "\\item 'fadl'\n",
       "\\item 'mo'\n",
       "\\item 'fadl'\n",
       "\\item 'mo'\n",
       "\\item 'fadl'\n",
       "\\item 'mo'\n",
       "\\end{enumerate*}\n"
      ],
      "text/markdown": [
       "1. 'fadl'\n",
       "2. 'mo'\n",
       "3. 'fadl'\n",
       "4. 'mo'\n",
       "5. 'fadl'\n",
       "6. 'mo'\n",
       "7. 'fadl'\n",
       "8. 'mo'\n",
       "\n",
       "\n"
      ],
      "text/plain": [
       "[1] \"fadl\" \"mo\"   \"fadl\" \"mo\"   \"fadl\" \"mo\"   \"fadl\" \"mo\"  "
      ]
     },
     "metadata": {},
     "output_type": "display_data"
    }
   ],
   "source": [
    "rep(c(\"fadl\",\"mo\"),4)"
   ]
  },
  {
   "attachments": {
    "image.png": {
     "image/png": "[encoded data removed]"
    }
   },
   "cell_type": "markdown",
   "metadata": {},
   "source": [
    "![image.png](attachment:image.png)\n"
   ]
  },
  {
   "cell_type": "code",
   "execution_count": 70,
   "metadata": {},
   "outputs": [
    {
     "data": {
      "text/html": [
       "<ol class=list-inline>\n",
       "\t<li>1</li>\n",
       "\t<li>2</li>\n",
       "\t<li>3</li>\n",
       "\t<li>4</li>\n",
       "\t<li>5</li>\n",
       "\t<li>6</li>\n",
       "</ol>\n"
      ],
      "text/latex": [
       "\\begin{enumerate*}\n",
       "\\item 1\n",
       "\\item 2\n",
       "\\item 3\n",
       "\\item 4\n",
       "\\item 5\n",
       "\\item 6\n",
       "\\end{enumerate*}\n"
      ],
      "text/markdown": [
       "1. 1\n",
       "2. 2\n",
       "3. 3\n",
       "4. 4\n",
       "5. 5\n",
       "6. 6\n",
       "\n",
       "\n"
      ],
      "text/plain": [
       "[1] 1 2 3 4 5 6"
      ]
     },
     "metadata": {},
     "output_type": "display_data"
    }
   ],
   "source": [
    "id=1:6\n",
    "id"
   ]
  },
  {
   "cell_type": "code",
   "execution_count": null,
   "metadata": {},
   "outputs": [],
   "source": []
  },
  {
   "cell_type": "code",
   "execution_count": 55,
   "metadata": {},
   "outputs": [
    {
     "data": {
      "text/html": [
       "<ol class=list-inline>\n",
       "\t<li>83</li>\n",
       "\t<li>88</li>\n",
       "\t<li>55</li>\n",
       "\t<li>90</li>\n",
       "\t<li>51</li>\n",
       "\t<li>77</li>\n",
       "</ol>\n"
      ],
      "text/latex": [
       "\\begin{enumerate*}\n",
       "\\item 83\n",
       "\\item 88\n",
       "\\item 55\n",
       "\\item 90\n",
       "\\item 51\n",
       "\\item 77\n",
       "\\end{enumerate*}\n"
      ],
      "text/markdown": [
       "1. 83\n",
       "2. 88\n",
       "3. 55\n",
       "4. 90\n",
       "5. 51\n",
       "6. 77\n",
       "\n",
       "\n"
      ],
      "text/plain": [
       "[1] 83 88 55 90 51 77"
      ]
     },
     "metadata": {},
     "output_type": "display_data"
    }
   ],
   "source": [
    "weight=sample(50:100,6)\n",
    "weight"
   ]
  },
  {
   "cell_type": "code",
   "execution_count": 43,
   "metadata": {},
   "outputs": [
    {
     "data": {
      "text/html": [
       "<ol class=list-inline>\n",
       "\t<li>70</li>\n",
       "\t<li>78</li>\n",
       "\t<li>97</li>\n",
       "\t<li>82</li>\n",
       "\t<li>80</li>\n",
       "\t<li>88</li>\n",
       "</ol>\n"
      ],
      "text/latex": [
       "\\begin{enumerate*}\n",
       "\\item 70\n",
       "\\item 78\n",
       "\\item 97\n",
       "\\item 82\n",
       "\\item 80\n",
       "\\item 88\n",
       "\\end{enumerate*}\n"
      ],
      "text/markdown": [
       "1. 70\n",
       "2. 78\n",
       "3. 97\n",
       "4. 82\n",
       "5. 80\n",
       "6. 88\n",
       "\n",
       "\n"
      ],
      "text/plain": [
       "[1] 70 78 97 82 80 88"
      ]
     },
     "metadata": {},
     "output_type": "display_data"
    }
   ],
   "source": [
    "weight=sample(50:100,6)\n",
    "weight"
   ]
  },
  {
   "cell_type": "code",
   "execution_count": 56,
   "metadata": {},
   "outputs": [
    {
     "data": {
      "text/html": [
       "<ol class=list-inline>\n",
       "\t<li>75</li>\n",
       "\t<li>65</li>\n",
       "\t<li>70</li>\n",
       "\t<li>83</li>\n",
       "\t<li>54</li>\n",
       "\t<li>60</li>\n",
       "</ol>\n"
      ],
      "text/latex": [
       "\\begin{enumerate*}\n",
       "\\item 75\n",
       "\\item 65\n",
       "\\item 70\n",
       "\\item 83\n",
       "\\item 54\n",
       "\\item 60\n",
       "\\end{enumerate*}\n"
      ],
      "text/markdown": [
       "1. 75\n",
       "2. 65\n",
       "3. 70\n",
       "4. 83\n",
       "5. 54\n",
       "6. 60\n",
       "\n",
       "\n"
      ],
      "text/plain": [
       "[1] 75 65 70 83 54 60"
      ]
     },
     "metadata": {},
     "output_type": "display_data"
    }
   ],
   "source": [
    "set.seed(10)\n",
    "weight=sample(50:100,6)\n",
    "weight"
   ]
  },
  {
   "cell_type": "code",
   "execution_count": 57,
   "metadata": {},
   "outputs": [
    {
     "data": {
      "text/html": [
       "<ol class=list-inline>\n",
       "\t<li>117</li>\n",
       "\t<li>190</li>\n",
       "\t<li>150</li>\n",
       "\t<li>132</li>\n",
       "\t<li>153</li>\n",
       "\t<li>144</li>\n",
       "</ol>\n"
      ],
      "text/latex": [
       "\\begin{enumerate*}\n",
       "\\item 117\n",
       "\\item 190\n",
       "\\item 150\n",
       "\\item 132\n",
       "\\item 153\n",
       "\\item 144\n",
       "\\end{enumerate*}\n"
      ],
      "text/markdown": [
       "1. 117\n",
       "2. 190\n",
       "3. 150\n",
       "4. 132\n",
       "5. 153\n",
       "6. 144\n",
       "\n",
       "\n"
      ],
      "text/plain": [
       "[1] 117 190 150 132 153 144"
      ]
     },
     "metadata": {},
     "output_type": "display_data"
    }
   ],
   "source": [
    "lenght=sample(90:190,6)\n",
    "lenght"
   ]
  },
  {
   "cell_type": "code",
   "execution_count": 68,
   "metadata": {},
   "outputs": [
    {
     "data": {
      "text/html": [
       "<ol class=list-inline>\n",
       "\t<li>'femal'</li>\n",
       "\t<li>'male'</li>\n",
       "\t<li>'male'</li>\n",
       "\t<li>'male'</li>\n",
       "\t<li>'male'</li>\n",
       "\t<li>'femal'</li>\n",
       "</ol>\n"
      ],
      "text/latex": [
       "\\begin{enumerate*}\n",
       "\\item 'femal'\n",
       "\\item 'male'\n",
       "\\item 'male'\n",
       "\\item 'male'\n",
       "\\item 'male'\n",
       "\\item 'femal'\n",
       "\\end{enumerate*}\n"
      ],
      "text/markdown": [
       "1. 'femal'\n",
       "2. 'male'\n",
       "3. 'male'\n",
       "4. 'male'\n",
       "5. 'male'\n",
       "6. 'femal'\n",
       "\n",
       "\n"
      ],
      "text/plain": [
       "[1] \"femal\" \"male\"  \"male\"  \"male\"  \"male\"  \"femal\""
      ]
     },
     "metadata": {},
     "output_type": "display_data"
    }
   ],
   "source": [
    "sex=sample(c(\"male\",\"femal\"),6,replace=T)\n",
    "sex"
   ]
  },
  {
   "cell_type": "code",
   "execution_count": 64,
   "metadata": {},
   "outputs": [
    {
     "data": {
      "text/html": [
       "<ol class=list-inline>\n",
       "\t<li>'asian'</li>\n",
       "\t<li>'indian'</li>\n",
       "\t<li>'asian'</li>\n",
       "\t<li>'asian'</li>\n",
       "\t<li>'asian'</li>\n",
       "\t<li>'african americain'</li>\n",
       "</ol>\n"
      ],
      "text/latex": [
       "\\begin{enumerate*}\n",
       "\\item 'asian'\n",
       "\\item 'indian'\n",
       "\\item 'asian'\n",
       "\\item 'asian'\n",
       "\\item 'asian'\n",
       "\\item 'african americain'\n",
       "\\end{enumerate*}\n"
      ],
      "text/markdown": [
       "1. 'asian'\n",
       "2. 'indian'\n",
       "3. 'asian'\n",
       "4. 'asian'\n",
       "5. 'asian'\n",
       "6. 'african americain'\n",
       "\n",
       "\n"
      ],
      "text/plain": [
       "[1] \"asian\"             \"indian\"            \"asian\"            \n",
       "[4] \"asian\"             \"asian\"             \"african americain\""
      ]
     },
     "metadata": {},
     "output_type": "display_data"
    }
   ],
   "source": [
    "ethnicity=sample(c(\"asian\",\"african americain\",\"indian\"),6,replace=T)\n",
    "ethnicity"
   ]
  },
  {
   "cell_type": "code",
   "execution_count": 65,
   "metadata": {},
   "outputs": [
    {
     "data": {
      "text/html": [
       "<ol class=list-inline>\n",
       "\t<li>1.20580034377053</li>\n",
       "\t<li>2.60309400921687</li>\n",
       "\t<li>1.70865612989292</li>\n",
       "\t<li>2.87286507850513</li>\n",
       "\t<li>1.49173278454691</li>\n",
       "\t<li>1.94628292275593</li>\n",
       "</ol>\n"
      ],
      "text/latex": [
       "\\begin{enumerate*}\n",
       "\\item 1.20580034377053\n",
       "\\item 2.60309400921687\n",
       "\\item 1.70865612989292\n",
       "\\item 2.87286507850513\n",
       "\\item 1.49173278454691\n",
       "\\item 1.94628292275593\n",
       "\\end{enumerate*}\n"
      ],
      "text/markdown": [
       "1. 1.20580034377053\n",
       "2. 2.60309400921687\n",
       "3. 1.70865612989292\n",
       "4. 2.87286507850513\n",
       "5. 1.49173278454691\n",
       "6. 1.94628292275593\n",
       "\n",
       "\n"
      ],
      "text/plain": [
       "[1] 1.205800 2.603094 1.708656 2.872865 1.491733 1.946283"
      ]
     },
     "metadata": {},
     "output_type": "display_data"
    }
   ],
   "source": [
    "tumer_size=runif(6,1,3)\n",
    "tumer_size"
   ]
  },
  {
   "cell_type": "code",
   "execution_count": 66,
   "metadata": {},
   "outputs": [],
   "source": [
    "drug=sample(c('drug A','drug B'),6,replace=T)\n",
    "live=sample(c('live','dead'),6,replace=T)"
   ]
  },
  {
   "cell_type": "code",
   "execution_count": 71,
   "metadata": {},
   "outputs": [
    {
     "data": {
      "text/html": [
       "<table>\n",
       "<thead><tr><th scope=col>id</th><th scope=col>weight</th><th scope=col>lenght</th><th scope=col>sex</th><th scope=col>ethnicity</th><th scope=col>tumer_size</th><th scope=col>drug</th><th scope=col>live</th></tr></thead>\n",
       "<tbody>\n",
       "\t<tr><td>1                </td><td>75               </td><td>117              </td><td>femal            </td><td>asian            </td><td>1.205800         </td><td>drug A           </td><td>live             </td></tr>\n",
       "\t<tr><td>2                </td><td>65               </td><td>190              </td><td>male             </td><td>indian           </td><td>2.603094         </td><td>drug B           </td><td>live             </td></tr>\n",
       "\t<tr><td>3                </td><td>70               </td><td>150              </td><td>male             </td><td>asian            </td><td>1.708656         </td><td>drug A           </td><td>live             </td></tr>\n",
       "\t<tr><td>4                </td><td>83               </td><td>132              </td><td>male             </td><td>asian            </td><td>2.872865         </td><td>drug A           </td><td>live             </td></tr>\n",
       "\t<tr><td>5                </td><td>54               </td><td>153              </td><td>male             </td><td>asian            </td><td>1.491733         </td><td>drug A           </td><td>dead             </td></tr>\n",
       "\t<tr><td>6                </td><td>60               </td><td>144              </td><td>femal            </td><td>african americain</td><td>1.946283         </td><td>drug B           </td><td>dead             </td></tr>\n",
       "</tbody>\n",
       "</table>\n"
      ],
      "text/latex": [
       "\\begin{tabular}{r|llllllll}\n",
       " id & weight & lenght & sex & ethnicity & tumer\\_size & drug & live\\\\\n",
       "\\hline\n",
       "\t 1                 & 75                & 117               & femal             & asian             & 1.205800          & drug A            & live             \\\\\n",
       "\t 2                 & 65                & 190               & male              & indian            & 2.603094          & drug B            & live             \\\\\n",
       "\t 3                 & 70                & 150               & male              & asian             & 1.708656          & drug A            & live             \\\\\n",
       "\t 4                 & 83                & 132               & male              & asian             & 2.872865          & drug A            & live             \\\\\n",
       "\t 5                 & 54                & 153               & male              & asian             & 1.491733          & drug A            & dead             \\\\\n",
       "\t 6                 & 60                & 144               & femal             & african americain & 1.946283          & drug B            & dead             \\\\\n",
       "\\end{tabular}\n"
      ],
      "text/markdown": [
       "\n",
       "id | weight | lenght | sex | ethnicity | tumer_size | drug | live | \n",
       "|---|---|---|---|---|---|\n",
       "| 1                 | 75                | 117               | femal             | asian             | 1.205800          | drug A            | live              | \n",
       "| 2                 | 65                | 190               | male              | indian            | 2.603094          | drug B            | live              | \n",
       "| 3                 | 70                | 150               | male              | asian             | 1.708656          | drug A            | live              | \n",
       "| 4                 | 83                | 132               | male              | asian             | 2.872865          | drug A            | live              | \n",
       "| 5                 | 54                | 153               | male              | asian             | 1.491733          | drug A            | dead              | \n",
       "| 6                 | 60                | 144               | femal             | african americain | 1.946283          | drug B            | dead              | \n",
       "\n",
       "\n"
      ],
      "text/plain": [
       "  id weight lenght sex   ethnicity         tumer_size drug   live\n",
       "1 1  75     117    femal asian             1.205800   drug A live\n",
       "2 2  65     190    male  indian            2.603094   drug B live\n",
       "3 3  70     150    male  asian             1.708656   drug A live\n",
       "4 4  83     132    male  asian             2.872865   drug A live\n",
       "5 5  54     153    male  asian             1.491733   drug A dead\n",
       "6 6  60     144    femal african americain 1.946283   drug B dead"
      ]
     },
     "metadata": {},
     "output_type": "display_data"
    }
   ],
   "source": [
    "data=data.frame(id,weight,lenght,sex,ethnicity,tumer_size,drug,live)\n",
    "head(data)"
   ]
  },
  {
   "cell_type": "code",
   "execution_count": 68,
   "metadata": {},
   "outputs": [],
   "source": [
    "?write.csv"
   ]
  },
  {
   "attachments": {
    "image.png": {
     "image/png": "[encoded data removed]"
    }
   },
   "cell_type": "markdown",
   "metadata": {},
   "source": [
    "![image.png](attachment:image.png)"
   ]
  },
  {
   "cell_type": "code",
   "execution_count": 72,
   "metadata": {},
   "outputs": [],
   "source": [
    "write.csv(data,\"data2.csv\")"
   ]
  },
  {
   "cell_type": "code",
   "execution_count": 52,
   "metadata": {},
   "outputs": [
    {
     "data": {
      "text/html": [
       "<table>\n",
       "<thead><tr><th scope=col>id</th><th scope=col>weight</th><th scope=col>lenght</th><th scope=col>sex</th><th scope=col>ethnicity</th><th scope=col>tumer_size</th><th scope=col>drug</th><th scope=col>live</th></tr></thead>\n",
       "<tbody>\n",
       "\t<tr><td>1                </td><td>75               </td><td>148              </td><td>male             </td><td>asian            </td><td>2.413294         </td><td>drug B           </td><td>dead             </td></tr>\n",
       "\t<tr><td>2                </td><td>65               </td><td>135              </td><td>femal            </td><td>asian            </td><td>2.676575         </td><td>drug A           </td><td>live             </td></tr>\n",
       "\t<tr><td>3                </td><td>70               </td><td>136              </td><td>femal            </td><td>african americain</td><td>1.479178         </td><td>drug A           </td><td>dead             </td></tr>\n",
       "\t<tr><td>4                </td><td>83               </td><td>129              </td><td>male             </td><td>african americain</td><td>2.541543         </td><td>drug A           </td><td>live             </td></tr>\n",
       "\t<tr><td>5                </td><td>54               </td><td>139              </td><td>femal            </td><td>african americain</td><td>1.711795         </td><td>drug A           </td><td>live             </td></tr>\n",
       "\t<tr><td>6                </td><td>60               </td><td> 93              </td><td>male             </td><td>african americain</td><td>2.071194         </td><td>drug A           </td><td>live             </td></tr>\n",
       "</tbody>\n",
       "</table>\n"
      ],
      "text/latex": [
       "\\begin{tabular}{r|llllllll}\n",
       " id & weight & lenght & sex & ethnicity & tumer\\_size & drug & live\\\\\n",
       "\\hline\n",
       "\t 1                 & 75                & 148               & male              & asian             & 2.413294          & drug B            & dead             \\\\\n",
       "\t 2                 & 65                & 135               & femal             & asian             & 2.676575          & drug A            & live             \\\\\n",
       "\t 3                 & 70                & 136               & femal             & african americain & 1.479178          & drug A            & dead             \\\\\n",
       "\t 4                 & 83                & 129               & male              & african americain & 2.541543          & drug A            & live             \\\\\n",
       "\t 5                 & 54                & 139               & femal             & african americain & 1.711795          & drug A            & live             \\\\\n",
       "\t 6                 & 60                &  93               & male              & african americain & 2.071194          & drug A            & live             \\\\\n",
       "\\end{tabular}\n"
      ],
      "text/markdown": [
       "\n",
       "id | weight | lenght | sex | ethnicity | tumer_size | drug | live | \n",
       "|---|---|---|---|---|---|\n",
       "| 1                 | 75                | 148               | male              | asian             | 2.413294          | drug B            | dead              | \n",
       "| 2                 | 65                | 135               | femal             | asian             | 2.676575          | drug A            | live              | \n",
       "| 3                 | 70                | 136               | femal             | african americain | 1.479178          | drug A            | dead              | \n",
       "| 4                 | 83                | 129               | male              | african americain | 2.541543          | drug A            | live              | \n",
       "| 5                 | 54                | 139               | femal             | african americain | 1.711795          | drug A            | live              | \n",
       "| 6                 | 60                |  93               | male              | african americain | 2.071194          | drug A            | live              | \n",
       "\n",
       "\n"
      ],
      "text/plain": [
       "  id weight lenght sex   ethnicity         tumer_size drug   live\n",
       "1 1  75     148    male  asian             2.413294   drug B dead\n",
       "2 2  65     135    femal asian             2.676575   drug A live\n",
       "3 3  70     136    femal african americain 1.479178   drug A dead\n",
       "4 4  83     129    male  african americain 2.541543   drug A live\n",
       "5 5  54     139    femal african americain 1.711795   drug A live\n",
       "6 6  60      93    male  african americain 2.071194   drug A live"
      ]
     },
     "metadata": {},
     "output_type": "display_data"
    }
   ],
   "source": [
    "data_read=read.csv(\"data.csv\",row.names=1)\n",
    "head(data_read)\n"
   ]
  },
  {
   "cell_type": "code",
   "execution_count": 76,
   "metadata": {},
   "outputs": [
    {
     "name": "stdout",
     "output_type": "stream",
     "text": [
      "'data.frame':\t6 obs. of  8 variables:\n",
      " $ id        : int  1 2 3 4 5 6\n",
      " $ weight    : int  75 65 70 83 54 60\n",
      " $ lenght    : int  148 135 136 129 139 93\n",
      " $ sex       : Factor w/ 2 levels \"femal\",\"male\": 2 1 1 2 1 2\n",
      " $ ethnicity : Factor w/ 2 levels \"african americain\",..: 2 2 1 1 1 1\n",
      " $ tumer_size: num  2.41 2.68 1.48 2.54 1.71 ...\n",
      " $ drug      : Factor w/ 2 levels \"drug A\",\"drug B\": 2 1 1 1 1 1\n",
      " $ live      : Factor w/ 2 levels \"dead\",\"live\": 1 2 1 2 2 2\n"
     ]
    }
   ],
   "source": [
    "str(data_read)"
   ]
  },
  {
   "cell_type": "code",
   "execution_count": 75,
   "metadata": {},
   "outputs": [
    {
     "data": {
      "text/plain": [
       "       id           weight          lenght         sex                ethnicity\n",
       " Min.   :1.00   Min.   :54.00   Min.   : 93.0   femal:3   african americain:4  \n",
       " 1st Qu.:2.25   1st Qu.:61.25   1st Qu.:130.5   male :3   asian            :2  \n",
       " Median :3.50   Median :67.50   Median :135.5                                  \n",
       " Mean   :3.50   Mean   :67.83   Mean   :130.0                                  \n",
       " 3rd Qu.:4.75   3rd Qu.:73.75   3rd Qu.:138.2                                  \n",
       " Max.   :6.00   Max.   :83.00   Max.   :148.0                                  \n",
       "   tumer_size        drug     live  \n",
       " Min.   :1.479   drug A:5   dead:2  \n",
       " 1st Qu.:1.802   drug B:1   live:4  \n",
       " Median :2.242                      \n",
       " Mean   :2.149                      \n",
       " 3rd Qu.:2.509                      \n",
       " Max.   :2.677                      "
      ]
     },
     "metadata": {},
     "output_type": "display_data"
    }
   ],
   "source": [
    "summary(data_read)"
   ]
  },
  {
   "cell_type": "code",
   "execution_count": 84,
   "metadata": {},
   "outputs": [
    {
     "data": {
      "text/html": [
       "<table>\n",
       "<thead><tr><th></th><th scope=col>vars</th><th scope=col>n</th><th scope=col>mean</th><th scope=col>sd</th><th scope=col>median</th><th scope=col>trimmed</th><th scope=col>mad</th><th scope=col>min</th><th scope=col>max</th><th scope=col>range</th><th scope=col>skew</th><th scope=col>kurtosis</th><th scope=col>se</th></tr></thead>\n",
       "<tbody>\n",
       "\t<tr><th scope=row>id</th><td>1          </td><td>6          </td><td>  3.500000 </td><td> 1.8708287 </td><td>  3.500000 </td><td>  3.500000 </td><td> 2.2239000 </td><td> 1.000000  </td><td>  6.000000 </td><td> 5.000000  </td><td> 0.0000000 </td><td>-1.79761905</td><td>0.7637626  </td></tr>\n",
       "\t<tr><th scope=row>weight</th><td>2          </td><td>6          </td><td> 67.833333 </td><td>10.4578519 </td><td> 67.500000 </td><td> 67.833333 </td><td>11.1195000 </td><td>54.000000  </td><td> 83.000000 </td><td>29.000000  </td><td> 0.1044008 </td><td>-1.66202739</td><td>4.2694002  </td></tr>\n",
       "\t<tr><th scope=row>lenght</th><td>3          </td><td>6          </td><td>130.000000 </td><td>19.1624633 </td><td>135.500000 </td><td>130.000000 </td><td> 7.4130000 </td><td>93.000000  </td><td>148.000000 </td><td>55.000000  </td><td>-1.0363171 </td><td>-0.54316063</td><td>7.8230429  </td></tr>\n",
       "\t<tr><th scope=row>sex*</th><td>4          </td><td>6          </td><td>  1.500000 </td><td> 0.5477226 </td><td>  1.500000 </td><td>  1.500000 </td><td> 0.7413000 </td><td> 1.000000  </td><td>  2.000000 </td><td> 1.000000  </td><td> 0.0000000 </td><td>-2.30555556</td><td>0.2236068  </td></tr>\n",
       "\t<tr><th scope=row>ethnicity*</th><td>5          </td><td>6          </td><td>  1.333333 </td><td> 0.5163978 </td><td>  1.000000 </td><td>  1.333333 </td><td> 0.0000000 </td><td> 1.000000  </td><td>  2.000000 </td><td> 1.000000  </td><td> 0.5379144 </td><td>-1.95833333</td><td>0.2108185  </td></tr>\n",
       "\t<tr><th scope=row>tumer_size</th><td>6          </td><td>6          </td><td>  2.148930 </td><td> 0.4791951 </td><td>  2.242244 </td><td>  2.148930 </td><td> 0.5438403 </td><td> 1.479178  </td><td>  2.676575 </td><td> 1.197397  </td><td>-0.2401206 </td><td>-1.91293113</td><td>0.1956306  </td></tr>\n",
       "\t<tr><th scope=row>drug*</th><td>7          </td><td>6          </td><td>  1.166667 </td><td> 0.4082483 </td><td>  1.000000 </td><td>  1.166667 </td><td> 0.0000000 </td><td> 1.000000  </td><td>  2.000000 </td><td> 1.000000  </td><td> 1.3608276 </td><td>-0.08333333</td><td>0.1666667  </td></tr>\n",
       "\t<tr><th scope=row>live*</th><td>8          </td><td>6          </td><td>  1.666667 </td><td> 0.5163978 </td><td>  2.000000 </td><td>  1.666667 </td><td> 0.0000000 </td><td> 1.000000  </td><td>  2.000000 </td><td> 1.000000  </td><td>-0.5379144 </td><td>-1.95833333</td><td>0.2108185  </td></tr>\n",
       "</tbody>\n",
       "</table>\n"
      ],
      "text/latex": [
       "\\begin{tabular}{r|lllllllllllll}\n",
       "  & vars & n & mean & sd & median & trimmed & mad & min & max & range & skew & kurtosis & se\\\\\n",
       "\\hline\n",
       "\tid & 1           & 6           &   3.500000  &  1.8708287  &   3.500000  &   3.500000  &  2.2239000  &  1.000000   &   6.000000  &  5.000000   &  0.0000000  & -1.79761905 & 0.7637626  \\\\\n",
       "\tweight & 2           & 6           &  67.833333  & 10.4578519  &  67.500000  &  67.833333  & 11.1195000  & 54.000000   &  83.000000  & 29.000000   &  0.1044008  & -1.66202739 & 4.2694002  \\\\\n",
       "\tlenght & 3           & 6           & 130.000000  & 19.1624633  & 135.500000  & 130.000000  &  7.4130000  & 93.000000   & 148.000000  & 55.000000   & -1.0363171  & -0.54316063 & 7.8230429  \\\\\n",
       "\tsex* & 4           & 6           &   1.500000  &  0.5477226  &   1.500000  &   1.500000  &  0.7413000  &  1.000000   &   2.000000  &  1.000000   &  0.0000000  & -2.30555556 & 0.2236068  \\\\\n",
       "\tethnicity* & 5           & 6           &   1.333333  &  0.5163978  &   1.000000  &   1.333333  &  0.0000000  &  1.000000   &   2.000000  &  1.000000   &  0.5379144  & -1.95833333 & 0.2108185  \\\\\n",
       "\ttumer\\_size & 6           & 6           &   2.148930  &  0.4791951  &   2.242244  &   2.148930  &  0.5438403  &  1.479178   &   2.676575  &  1.197397   & -0.2401206  & -1.91293113 & 0.1956306  \\\\\n",
       "\tdrug* & 7           & 6           &   1.166667  &  0.4082483  &   1.000000  &   1.166667  &  0.0000000  &  1.000000   &   2.000000  &  1.000000   &  1.3608276  & -0.08333333 & 0.1666667  \\\\\n",
       "\tlive* & 8           & 6           &   1.666667  &  0.5163978  &   2.000000  &   1.666667  &  0.0000000  &  1.000000   &   2.000000  &  1.000000   & -0.5379144  & -1.95833333 & 0.2108185  \\\\\n",
       "\\end{tabular}\n"
      ],
      "text/markdown": [
       "\n",
       "| <!--/--> | vars | n | mean | sd | median | trimmed | mad | min | max | range | skew | kurtosis | se | \n",
       "|---|---|---|---|---|---|---|---|\n",
       "| id | 1           | 6           |   3.500000  |  1.8708287  |   3.500000  |   3.500000  |  2.2239000  |  1.000000   |   6.000000  |  5.000000   |  0.0000000  | -1.79761905 | 0.7637626   | \n",
       "| weight | 2           | 6           |  67.833333  | 10.4578519  |  67.500000  |  67.833333  | 11.1195000  | 54.000000   |  83.000000  | 29.000000   |  0.1044008  | -1.66202739 | 4.2694002   | \n",
       "| lenght | 3           | 6           | 130.000000  | 19.1624633  | 135.500000  | 130.000000  |  7.4130000  | 93.000000   | 148.000000  | 55.000000   | -1.0363171  | -0.54316063 | 7.8230429   | \n",
       "| sex* | 4           | 6           |   1.500000  |  0.5477226  |   1.500000  |   1.500000  |  0.7413000  |  1.000000   |   2.000000  |  1.000000   |  0.0000000  | -2.30555556 | 0.2236068   | \n",
       "| ethnicity* | 5           | 6           |   1.333333  |  0.5163978  |   1.000000  |   1.333333  |  0.0000000  |  1.000000   |   2.000000  |  1.000000   |  0.5379144  | -1.95833333 | 0.2108185   | \n",
       "| tumer_size | 6           | 6           |   2.148930  |  0.4791951  |   2.242244  |   2.148930  |  0.5438403  |  1.479178   |   2.676575  |  1.197397   | -0.2401206  | -1.91293113 | 0.1956306   | \n",
       "| drug* | 7           | 6           |   1.166667  |  0.4082483  |   1.000000  |   1.166667  |  0.0000000  |  1.000000   |   2.000000  |  1.000000   |  1.3608276  | -0.08333333 | 0.1666667   | \n",
       "| live* | 8           | 6           |   1.666667  |  0.5163978  |   2.000000  |   1.666667  |  0.0000000  |  1.000000   |   2.000000  |  1.000000   | -0.5379144  | -1.95833333 | 0.2108185   | \n",
       "\n",
       "\n"
      ],
      "text/plain": [
       "           vars n mean       sd         median     trimmed    mad       \n",
       "id         1    6   3.500000  1.8708287   3.500000   3.500000  2.2239000\n",
       "weight     2    6  67.833333 10.4578519  67.500000  67.833333 11.1195000\n",
       "lenght     3    6 130.000000 19.1624633 135.500000 130.000000  7.4130000\n",
       "sex*       4    6   1.500000  0.5477226   1.500000   1.500000  0.7413000\n",
       "ethnicity* 5    6   1.333333  0.5163978   1.000000   1.333333  0.0000000\n",
       "tumer_size 6    6   2.148930  0.4791951   2.242244   2.148930  0.5438403\n",
       "drug*      7    6   1.166667  0.4082483   1.000000   1.166667  0.0000000\n",
       "live*      8    6   1.666667  0.5163978   2.000000   1.666667  0.0000000\n",
       "           min       max        range     skew       kurtosis    se       \n",
       "id          1.000000   6.000000  5.000000  0.0000000 -1.79761905 0.7637626\n",
       "weight     54.000000  83.000000 29.000000  0.1044008 -1.66202739 4.2694002\n",
       "lenght     93.000000 148.000000 55.000000 -1.0363171 -0.54316063 7.8230429\n",
       "sex*        1.000000   2.000000  1.000000  0.0000000 -2.30555556 0.2236068\n",
       "ethnicity*  1.000000   2.000000  1.000000  0.5379144 -1.95833333 0.2108185\n",
       "tumer_size  1.479178   2.676575  1.197397 -0.2401206 -1.91293113 0.1956306\n",
       "drug*       1.000000   2.000000  1.000000  1.3608276 -0.08333333 0.1666667\n",
       "live*       1.000000   2.000000  1.000000 -0.5379144 -1.95833333 0.2108185"
      ]
     },
     "metadata": {},
     "output_type": "display_data"
    }
   ],
   "source": [
    "library(psych)\n",
    "describe(data_read)"
   ]
  },
  {
   "cell_type": "code",
   "execution_count": null,
   "metadata": {},
   "outputs": [],
   "source": []
  },
  {
   "attachments": {
    "image.png": {
     "image/png": "[encoded data removed]"
    }
   },
   "cell_type": "markdown",
   "metadata": {},
   "source": [
    "![image.png](attachment:image.png)"
   ]
  },
  {
   "cell_type": "code",
   "execution_count": 50,
   "metadata": {},
   "outputs": [
    {
     "name": "stderr",
     "output_type": "stream",
     "text": [
      "\n",
      "Attaching package: ‘dplyr’\n",
      "\n",
      "The following objects are masked from ‘package:stats’:\n",
      "\n",
      "    filter, lag\n",
      "\n",
      "The following objects are masked from ‘package:base’:\n",
      "\n",
      "    intersect, setdiff, setequal, union\n",
      "\n"
     ]
    }
   ],
   "source": [
    "library(dplyr)\n",
    "#http://genomicsclass.github.io/book/pages/dplyr_tutorial.html"
   ]
  },
  {
   "cell_type": "code",
   "execution_count": 91,
   "metadata": {},
   "outputs": [
    {
     "data": {
      "text/html": [
       "<table>\n",
       "<thead><tr><th scope=col>id</th><th scope=col>sex</th><th scope=col>weight</th><th scope=col>live</th></tr></thead>\n",
       "<tbody>\n",
       "\t<tr><td>1    </td><td>male </td><td>75   </td><td>dead </td></tr>\n",
       "\t<tr><td>2    </td><td>femal</td><td>65   </td><td>live </td></tr>\n",
       "\t<tr><td>3    </td><td>femal</td><td>70   </td><td>dead </td></tr>\n",
       "\t<tr><td>4    </td><td>male </td><td>83   </td><td>live </td></tr>\n",
       "\t<tr><td>5    </td><td>femal</td><td>54   </td><td>live </td></tr>\n",
       "\t<tr><td>6    </td><td>male </td><td>60   </td><td>live </td></tr>\n",
       "</tbody>\n",
       "</table>\n"
      ],
      "text/latex": [
       "\\begin{tabular}{r|llll}\n",
       " id & sex & weight & live\\\\\n",
       "\\hline\n",
       "\t 1     & male  & 75    & dead \\\\\n",
       "\t 2     & femal & 65    & live \\\\\n",
       "\t 3     & femal & 70    & dead \\\\\n",
       "\t 4     & male  & 83    & live \\\\\n",
       "\t 5     & femal & 54    & live \\\\\n",
       "\t 6     & male  & 60    & live \\\\\n",
       "\\end{tabular}\n"
      ],
      "text/markdown": [
       "\n",
       "id | sex | weight | live | \n",
       "|---|---|---|---|---|---|\n",
       "| 1     | male  | 75    | dead  | \n",
       "| 2     | femal | 65    | live  | \n",
       "| 3     | femal | 70    | dead  | \n",
       "| 4     | male  | 83    | live  | \n",
       "| 5     | femal | 54    | live  | \n",
       "| 6     | male  | 60    | live  | \n",
       "\n",
       "\n"
      ],
      "text/plain": [
       "  id sex   weight live\n",
       "1 1  male  75     dead\n",
       "2 2  femal 65     live\n",
       "3 3  femal 70     dead\n",
       "4 4  male  83     live\n",
       "5 5  femal 54     live\n",
       "6 6  male  60     live"
      ]
     },
     "metadata": {},
     "output_type": "display_data"
    }
   ],
   "source": [
    "select(data,id, sex, weight,live)"
   ]
  },
  {
   "cell_type": "code",
   "execution_count": 95,
   "metadata": {},
   "outputs": [
    {
     "data": {
      "text/html": [
       "<table>\n",
       "<thead><tr><th scope=col>id</th><th scope=col>weight</th><th scope=col>lenght</th><th scope=col>sex</th><th scope=col>ethnicity</th><th scope=col>tumer_size</th><th scope=col>drug</th><th scope=col>live</th></tr></thead>\n",
       "<tbody>\n",
       "\t<tr><td>1                </td><td>75               </td><td>148              </td><td>male             </td><td>asian            </td><td>2.413294         </td><td>drug B           </td><td>dead             </td></tr>\n",
       "\t<tr><td>4                </td><td>83               </td><td>129              </td><td>male             </td><td>african americain</td><td>2.541543         </td><td>drug A           </td><td>live             </td></tr>\n",
       "\t<tr><td>6                </td><td>60               </td><td> 93              </td><td>male             </td><td>african americain</td><td>2.071194         </td><td>drug A           </td><td>live             </td></tr>\n",
       "</tbody>\n",
       "</table>\n"
      ],
      "text/latex": [
       "\\begin{tabular}{r|llllllll}\n",
       " id & weight & lenght & sex & ethnicity & tumer\\_size & drug & live\\\\\n",
       "\\hline\n",
       "\t 1                 & 75                & 148               & male              & asian             & 2.413294          & drug B            & dead             \\\\\n",
       "\t 4                 & 83                & 129               & male              & african americain & 2.541543          & drug A            & live             \\\\\n",
       "\t 6                 & 60                &  93               & male              & african americain & 2.071194          & drug A            & live             \\\\\n",
       "\\end{tabular}\n"
      ],
      "text/markdown": [
       "\n",
       "id | weight | lenght | sex | ethnicity | tumer_size | drug | live | \n",
       "|---|---|---|\n",
       "| 1                 | 75                | 148               | male              | asian             | 2.413294          | drug B            | dead              | \n",
       "| 4                 | 83                | 129               | male              | african americain | 2.541543          | drug A            | live              | \n",
       "| 6                 | 60                |  93               | male              | african americain | 2.071194          | drug A            | live              | \n",
       "\n",
       "\n"
      ],
      "text/plain": [
       "  id weight lenght sex  ethnicity         tumer_size drug   live\n",
       "1 1  75     148    male asian             2.413294   drug B dead\n",
       "2 4  83     129    male african americain 2.541543   drug A live\n",
       "3 6  60      93    male african americain 2.071194   drug A live"
      ]
     },
     "metadata": {},
     "output_type": "display_data"
    },
    {
     "data": {
      "text/html": [
       "<table>\n",
       "<thead><tr><th scope=col>id</th><th scope=col>weight</th><th scope=col>lenght</th><th scope=col>sex</th><th scope=col>ethnicity</th><th scope=col>tumer_size</th><th scope=col>drug</th><th scope=col>live</th></tr></thead>\n",
       "<tbody>\n",
       "\t<tr><td>2                </td><td>65               </td><td>135              </td><td>femal            </td><td>asian            </td><td>2.676575         </td><td>drug A           </td><td>live             </td></tr>\n",
       "\t<tr><td>3                </td><td>70               </td><td>136              </td><td>femal            </td><td>african americain</td><td>1.479178         </td><td>drug A           </td><td>dead             </td></tr>\n",
       "\t<tr><td>5                </td><td>54               </td><td>139              </td><td>femal            </td><td>african americain</td><td>1.711795         </td><td>drug A           </td><td>live             </td></tr>\n",
       "</tbody>\n",
       "</table>\n"
      ],
      "text/latex": [
       "\\begin{tabular}{r|llllllll}\n",
       " id & weight & lenght & sex & ethnicity & tumer\\_size & drug & live\\\\\n",
       "\\hline\n",
       "\t 2                 & 65                & 135               & femal             & asian             & 2.676575          & drug A            & live             \\\\\n",
       "\t 3                 & 70                & 136               & femal             & african americain & 1.479178          & drug A            & dead             \\\\\n",
       "\t 5                 & 54                & 139               & femal             & african americain & 1.711795          & drug A            & live             \\\\\n",
       "\\end{tabular}\n"
      ],
      "text/markdown": [
       "\n",
       "id | weight | lenght | sex | ethnicity | tumer_size | drug | live | \n",
       "|---|---|---|\n",
       "| 2                 | 65                | 135               | femal             | asian             | 2.676575          | drug A            | live              | \n",
       "| 3                 | 70                | 136               | femal             | african americain | 1.479178          | drug A            | dead              | \n",
       "| 5                 | 54                | 139               | femal             | african americain | 1.711795          | drug A            | live              | \n",
       "\n",
       "\n"
      ],
      "text/plain": [
       "  id weight lenght sex   ethnicity         tumer_size drug   live\n",
       "1 2  65     135    femal asian             2.676575   drug A live\n",
       "2 3  70     136    femal african americain 1.479178   drug A dead\n",
       "3 5  54     139    femal african americain 1.711795   drug A live"
      ]
     },
     "metadata": {},
     "output_type": "display_data"
    }
   ],
   "source": [
    "filter(data,sex==\"male\")\n",
    "filter(data,sex==\"femal\")"
   ]
  },
  {
   "cell_type": "code",
   "execution_count": 97,
   "metadata": {},
   "outputs": [
    {
     "data": {
      "text/html": [
       "<table>\n",
       "<thead><tr><th scope=col>id</th><th scope=col>weight</th><th scope=col>lenght</th><th scope=col>sex</th><th scope=col>ethnicity</th><th scope=col>tumer_size</th><th scope=col>drug</th><th scope=col>live</th></tr></thead>\n",
       "<tbody>\n",
       "\t<tr><td>1                </td><td>75               </td><td>148              </td><td>male             </td><td>asian            </td><td>2.413294         </td><td>drug B           </td><td>dead             </td></tr>\n",
       "\t<tr><td>2                </td><td>65               </td><td>135              </td><td>femal            </td><td>asian            </td><td>2.676575         </td><td>drug A           </td><td>live             </td></tr>\n",
       "\t<tr><td>3                </td><td>70               </td><td>136              </td><td>femal            </td><td>african americain</td><td>1.479178         </td><td>drug A           </td><td>dead             </td></tr>\n",
       "\t<tr><td>4                </td><td>83               </td><td>129              </td><td>male             </td><td>african americain</td><td>2.541543         </td><td>drug A           </td><td>live             </td></tr>\n",
       "\t<tr><td>5                </td><td>54               </td><td>139              </td><td>femal            </td><td>african americain</td><td>1.711795         </td><td>drug A           </td><td>live             </td></tr>\n",
       "</tbody>\n",
       "</table>\n"
      ],
      "text/latex": [
       "\\begin{tabular}{r|llllllll}\n",
       " id & weight & lenght & sex & ethnicity & tumer\\_size & drug & live\\\\\n",
       "\\hline\n",
       "\t 1                 & 75                & 148               & male              & asian             & 2.413294          & drug B            & dead             \\\\\n",
       "\t 2                 & 65                & 135               & femal             & asian             & 2.676575          & drug A            & live             \\\\\n",
       "\t 3                 & 70                & 136               & femal             & african americain & 1.479178          & drug A            & dead             \\\\\n",
       "\t 4                 & 83                & 129               & male              & african americain & 2.541543          & drug A            & live             \\\\\n",
       "\t 5                 & 54                & 139               & femal             & african americain & 1.711795          & drug A            & live             \\\\\n",
       "\\end{tabular}\n"
      ],
      "text/markdown": [
       "\n",
       "id | weight | lenght | sex | ethnicity | tumer_size | drug | live | \n",
       "|---|---|---|---|---|\n",
       "| 1                 | 75                | 148               | male              | asian             | 2.413294          | drug B            | dead              | \n",
       "| 2                 | 65                | 135               | femal             | asian             | 2.676575          | drug A            | live              | \n",
       "| 3                 | 70                | 136               | femal             | african americain | 1.479178          | drug A            | dead              | \n",
       "| 4                 | 83                | 129               | male              | african americain | 2.541543          | drug A            | live              | \n",
       "| 5                 | 54                | 139               | femal             | african americain | 1.711795          | drug A            | live              | \n",
       "\n",
       "\n"
      ],
      "text/plain": [
       "  id weight lenght sex   ethnicity         tumer_size drug   live\n",
       "1 1  75     148    male  asian             2.413294   drug B dead\n",
       "2 2  65     135    femal asian             2.676575   drug A live\n",
       "3 3  70     136    femal african americain 1.479178   drug A dead\n",
       "4 4  83     129    male  african americain 2.541543   drug A live\n",
       "5 5  54     139    femal african americain 1.711795   drug A live"
      ]
     },
     "metadata": {},
     "output_type": "display_data"
    }
   ],
   "source": [
    "filter(data,lenght>100)"
   ]
  },
  {
   "cell_type": "code",
   "execution_count": 100,
   "metadata": {},
   "outputs": [
    {
     "data": {
      "text/html": [
       "<table>\n",
       "<thead><tr><th scope=col>id</th><th scope=col>weight</th><th scope=col>lenght</th><th scope=col>sex</th><th scope=col>ethnicity</th><th scope=col>tumer_size</th><th scope=col>drug</th><th scope=col>live</th></tr></thead>\n",
       "<tbody>\n",
       "\t<tr><td>2                </td><td>65               </td><td>135              </td><td>femal            </td><td>asian            </td><td>2.676575         </td><td>drug A           </td><td>live             </td></tr>\n",
       "\t<tr><td>5                </td><td>54               </td><td>139              </td><td>femal            </td><td>african americain</td><td>1.711795         </td><td>drug A           </td><td>live             </td></tr>\n",
       "</tbody>\n",
       "</table>\n"
      ],
      "text/latex": [
       "\\begin{tabular}{r|llllllll}\n",
       " id & weight & lenght & sex & ethnicity & tumer\\_size & drug & live\\\\\n",
       "\\hline\n",
       "\t 2                 & 65                & 135               & femal             & asian             & 2.676575          & drug A            & live             \\\\\n",
       "\t 5                 & 54                & 139               & femal             & african americain & 1.711795          & drug A            & live             \\\\\n",
       "\\end{tabular}\n"
      ],
      "text/markdown": [
       "\n",
       "id | weight | lenght | sex | ethnicity | tumer_size | drug | live | \n",
       "|---|---|\n",
       "| 2                 | 65                | 135               | femal             | asian             | 2.676575          | drug A            | live              | \n",
       "| 5                 | 54                | 139               | femal             | african americain | 1.711795          | drug A            | live              | \n",
       "\n",
       "\n"
      ],
      "text/plain": [
       "  id weight lenght sex   ethnicity         tumer_size drug   live\n",
       "1 2  65     135    femal asian             2.676575   drug A live\n",
       "2 5  54     139    femal african americain 1.711795   drug A live"
      ]
     },
     "metadata": {},
     "output_type": "display_data"
    }
   ],
   "source": [
    "filter(data, lenght>100 & weight <70)"
   ]
  },
  {
   "cell_type": "code",
   "execution_count": 5,
   "metadata": {},
   "outputs": [
    {
     "data": {
      "text/html": [
       "<table>\n",
       "<thead><tr><th scope=col>id</th><th scope=col>weight</th><th scope=col>lenght</th><th scope=col>sex</th><th scope=col>ethnicity</th><th scope=col>tumer_size</th><th scope=col>drug</th><th scope=col>live</th></tr></thead>\n",
       "<tbody>\n",
       "\t<tr><td>1                </td><td>75               </td><td>148              </td><td>male             </td><td>asian            </td><td>2.413294         </td><td>drug B           </td><td>dead             </td></tr>\n",
       "\t<tr><td>2                </td><td>65               </td><td>135              </td><td>femal            </td><td>asian            </td><td>2.676575         </td><td>drug A           </td><td>live             </td></tr>\n",
       "\t<tr><td>3                </td><td>70               </td><td>136              </td><td>femal            </td><td>african americain</td><td>1.479178         </td><td>drug A           </td><td>dead             </td></tr>\n",
       "\t<tr><td>4                </td><td>83               </td><td>129              </td><td>male             </td><td>african americain</td><td>2.541543         </td><td>drug A           </td><td>live             </td></tr>\n",
       "\t<tr><td>5                </td><td>54               </td><td>139              </td><td>femal            </td><td>african americain</td><td>1.711795         </td><td>drug A           </td><td>live             </td></tr>\n",
       "\t<tr><td>6                </td><td>60               </td><td> 93              </td><td>male             </td><td>african americain</td><td>2.071194         </td><td>drug A           </td><td>live             </td></tr>\n",
       "</tbody>\n",
       "</table>\n"
      ],
      "text/latex": [
       "\\begin{tabular}{r|llllllll}\n",
       " id & weight & lenght & sex & ethnicity & tumer\\_size & drug & live\\\\\n",
       "\\hline\n",
       "\t 1                 & 75                & 148               & male              & asian             & 2.413294          & drug B            & dead             \\\\\n",
       "\t 2                 & 65                & 135               & femal             & asian             & 2.676575          & drug A            & live             \\\\\n",
       "\t 3                 & 70                & 136               & femal             & african americain & 1.479178          & drug A            & dead             \\\\\n",
       "\t 4                 & 83                & 129               & male              & african americain & 2.541543          & drug A            & live             \\\\\n",
       "\t 5                 & 54                & 139               & femal             & african americain & 1.711795          & drug A            & live             \\\\\n",
       "\t 6                 & 60                &  93               & male              & african americain & 2.071194          & drug A            & live             \\\\\n",
       "\\end{tabular}\n"
      ],
      "text/markdown": [
       "\n",
       "id | weight | lenght | sex | ethnicity | tumer_size | drug | live | \n",
       "|---|---|---|---|---|---|\n",
       "| 1                 | 75                | 148               | male              | asian             | 2.413294          | drug B            | dead              | \n",
       "| 2                 | 65                | 135               | femal             | asian             | 2.676575          | drug A            | live              | \n",
       "| 3                 | 70                | 136               | femal             | african americain | 1.479178          | drug A            | dead              | \n",
       "| 4                 | 83                | 129               | male              | african americain | 2.541543          | drug A            | live              | \n",
       "| 5                 | 54                | 139               | femal             | african americain | 1.711795          | drug A            | live              | \n",
       "| 6                 | 60                |  93               | male              | african americain | 2.071194          | drug A            | live              | \n",
       "\n",
       "\n"
      ],
      "text/plain": [
       "  id weight lenght sex   ethnicity         tumer_size drug   live\n",
       "1 1  75     148    male  asian             2.413294   drug B dead\n",
       "2 2  65     135    femal asian             2.676575   drug A live\n",
       "3 3  70     136    femal african americain 1.479178   drug A dead\n",
       "4 4  83     129    male  african americain 2.541543   drug A live\n",
       "5 5  54     139    femal african americain 1.711795   drug A live\n",
       "6 6  60      93    male  african americain 2.071194   drug A live"
      ]
     },
     "metadata": {},
     "output_type": "display_data"
    },
    {
     "data": {
      "text/html": [
       "<table>\n",
       "<thead><tr><th scope=col>id</th><th scope=col>weight</th><th scope=col>lenght</th><th scope=col>sex</th><th scope=col>ethnicity</th><th scope=col>tumer_size</th><th scope=col>drug</th><th scope=col>live</th></tr></thead>\n",
       "<tbody>\n",
       "\t<tr><td>5                </td><td>54               </td><td>139              </td><td>femal            </td><td>african americain</td><td>1.711795         </td><td>drug A           </td><td>live             </td></tr>\n",
       "\t<tr><td>6                </td><td>60               </td><td> 93              </td><td>male             </td><td>african americain</td><td>2.071194         </td><td>drug A           </td><td>live             </td></tr>\n",
       "\t<tr><td>2                </td><td>65               </td><td>135              </td><td>femal            </td><td>asian            </td><td>2.676575         </td><td>drug A           </td><td>live             </td></tr>\n",
       "\t<tr><td>3                </td><td>70               </td><td>136              </td><td>femal            </td><td>african americain</td><td>1.479178         </td><td>drug A           </td><td>dead             </td></tr>\n",
       "\t<tr><td>1                </td><td>75               </td><td>148              </td><td>male             </td><td>asian            </td><td>2.413294         </td><td>drug B           </td><td>dead             </td></tr>\n",
       "\t<tr><td>4                </td><td>83               </td><td>129              </td><td>male             </td><td>african americain</td><td>2.541543         </td><td>drug A           </td><td>live             </td></tr>\n",
       "</tbody>\n",
       "</table>\n"
      ],
      "text/latex": [
       "\\begin{tabular}{r|llllllll}\n",
       " id & weight & lenght & sex & ethnicity & tumer\\_size & drug & live\\\\\n",
       "\\hline\n",
       "\t 5                 & 54                & 139               & femal             & african americain & 1.711795          & drug A            & live             \\\\\n",
       "\t 6                 & 60                &  93               & male              & african americain & 2.071194          & drug A            & live             \\\\\n",
       "\t 2                 & 65                & 135               & femal             & asian             & 2.676575          & drug A            & live             \\\\\n",
       "\t 3                 & 70                & 136               & femal             & african americain & 1.479178          & drug A            & dead             \\\\\n",
       "\t 1                 & 75                & 148               & male              & asian             & 2.413294          & drug B            & dead             \\\\\n",
       "\t 4                 & 83                & 129               & male              & african americain & 2.541543          & drug A            & live             \\\\\n",
       "\\end{tabular}\n"
      ],
      "text/markdown": [
       "\n",
       "id | weight | lenght | sex | ethnicity | tumer_size | drug | live | \n",
       "|---|---|---|---|---|---|\n",
       "| 5                 | 54                | 139               | femal             | african americain | 1.711795          | drug A            | live              | \n",
       "| 6                 | 60                |  93               | male              | african americain | 2.071194          | drug A            | live              | \n",
       "| 2                 | 65                | 135               | femal             | asian             | 2.676575          | drug A            | live              | \n",
       "| 3                 | 70                | 136               | femal             | african americain | 1.479178          | drug A            | dead              | \n",
       "| 1                 | 75                | 148               | male              | asian             | 2.413294          | drug B            | dead              | \n",
       "| 4                 | 83                | 129               | male              | african americain | 2.541543          | drug A            | live              | \n",
       "\n",
       "\n"
      ],
      "text/plain": [
       "  id weight lenght sex   ethnicity         tumer_size drug   live\n",
       "1 5  54     139    femal african americain 1.711795   drug A live\n",
       "2 6  60      93    male  african americain 2.071194   drug A live\n",
       "3 2  65     135    femal asian             2.676575   drug A live\n",
       "4 3  70     136    femal african americain 1.479178   drug A dead\n",
       "5 1  75     148    male  asian             2.413294   drug B dead\n",
       "6 4  83     129    male  african americain 2.541543   drug A live"
      ]
     },
     "metadata": {},
     "output_type": "display_data"
    },
    {
     "data": {
      "text/html": [
       "<table>\n",
       "<thead><tr><th scope=col>id</th><th scope=col>weight</th><th scope=col>lenght</th><th scope=col>sex</th><th scope=col>ethnicity</th><th scope=col>tumer_size</th><th scope=col>drug</th><th scope=col>live</th></tr></thead>\n",
       "<tbody>\n",
       "\t<tr><td>4                </td><td>83               </td><td>129              </td><td>male             </td><td>african americain</td><td>2.541543         </td><td>drug A           </td><td>live             </td></tr>\n",
       "\t<tr><td>1                </td><td>75               </td><td>148              </td><td>male             </td><td>asian            </td><td>2.413294         </td><td>drug B           </td><td>dead             </td></tr>\n",
       "\t<tr><td>3                </td><td>70               </td><td>136              </td><td>femal            </td><td>african americain</td><td>1.479178         </td><td>drug A           </td><td>dead             </td></tr>\n",
       "\t<tr><td>2                </td><td>65               </td><td>135              </td><td>femal            </td><td>asian            </td><td>2.676575         </td><td>drug A           </td><td>live             </td></tr>\n",
       "\t<tr><td>6                </td><td>60               </td><td> 93              </td><td>male             </td><td>african americain</td><td>2.071194         </td><td>drug A           </td><td>live             </td></tr>\n",
       "\t<tr><td>5                </td><td>54               </td><td>139              </td><td>femal            </td><td>african americain</td><td>1.711795         </td><td>drug A           </td><td>live             </td></tr>\n",
       "</tbody>\n",
       "</table>\n"
      ],
      "text/latex": [
       "\\begin{tabular}{r|llllllll}\n",
       " id & weight & lenght & sex & ethnicity & tumer\\_size & drug & live\\\\\n",
       "\\hline\n",
       "\t 4                 & 83                & 129               & male              & african americain & 2.541543          & drug A            & live             \\\\\n",
       "\t 1                 & 75                & 148               & male              & asian             & 2.413294          & drug B            & dead             \\\\\n",
       "\t 3                 & 70                & 136               & femal             & african americain & 1.479178          & drug A            & dead             \\\\\n",
       "\t 2                 & 65                & 135               & femal             & asian             & 2.676575          & drug A            & live             \\\\\n",
       "\t 6                 & 60                &  93               & male              & african americain & 2.071194          & drug A            & live             \\\\\n",
       "\t 5                 & 54                & 139               & femal             & african americain & 1.711795          & drug A            & live             \\\\\n",
       "\\end{tabular}\n"
      ],
      "text/markdown": [
       "\n",
       "id | weight | lenght | sex | ethnicity | tumer_size | drug | live | \n",
       "|---|---|---|---|---|---|\n",
       "| 4                 | 83                | 129               | male              | african americain | 2.541543          | drug A            | live              | \n",
       "| 1                 | 75                | 148               | male              | asian             | 2.413294          | drug B            | dead              | \n",
       "| 3                 | 70                | 136               | femal             | african americain | 1.479178          | drug A            | dead              | \n",
       "| 2                 | 65                | 135               | femal             | asian             | 2.676575          | drug A            | live              | \n",
       "| 6                 | 60                |  93               | male              | african americain | 2.071194          | drug A            | live              | \n",
       "| 5                 | 54                | 139               | femal             | african americain | 1.711795          | drug A            | live              | \n",
       "\n",
       "\n"
      ],
      "text/plain": [
       "  id weight lenght sex   ethnicity         tumer_size drug   live\n",
       "1 4  83     129    male  african americain 2.541543   drug A live\n",
       "2 1  75     148    male  asian             2.413294   drug B dead\n",
       "3 3  70     136    femal african americain 1.479178   drug A dead\n",
       "4 2  65     135    femal asian             2.676575   drug A live\n",
       "5 6  60      93    male  african americain 2.071194   drug A live\n",
       "6 5  54     139    femal african americain 1.711795   drug A live"
      ]
     },
     "metadata": {},
     "output_type": "display_data"
    }
   ],
   "source": [
    "head(data_read)\n",
    "arrange(data_read,weight)\n",
    "arrange(data_read,desc(weight))"
   ]
  },
  {
   "cell_type": "code",
   "execution_count": 7,
   "metadata": {},
   "outputs": [
    {
     "data": {
      "text/html": [
       "<table>\n",
       "<thead><tr><th scope=col>id</th><th scope=col>weight</th><th scope=col>lenght</th><th scope=col>sex</th><th scope=col>ethnicity</th><th scope=col>tumer_size</th><th scope=col>drug</th><th scope=col>live</th></tr></thead>\n",
       "<tbody>\n",
       "\t<tr><td>1                </td><td>75               </td><td>148              </td><td>male             </td><td>asian            </td><td>2.413294         </td><td>drug B           </td><td>dead             </td></tr>\n",
       "\t<tr><td>2                </td><td>65               </td><td>135              </td><td>femal            </td><td>asian            </td><td>2.676575         </td><td>drug A           </td><td>live             </td></tr>\n",
       "\t<tr><td>3                </td><td>70               </td><td>136              </td><td>femal            </td><td>african americain</td><td>1.479178         </td><td>drug A           </td><td>dead             </td></tr>\n",
       "\t<tr><td>4                </td><td>83               </td><td>129              </td><td>male             </td><td>african americain</td><td>2.541543         </td><td>drug A           </td><td>live             </td></tr>\n",
       "\t<tr><td>5                </td><td>54               </td><td>139              </td><td>femal            </td><td>african americain</td><td>1.711795         </td><td>drug A           </td><td>live             </td></tr>\n",
       "\t<tr><td>6                </td><td>60               </td><td> 93              </td><td>male             </td><td>african americain</td><td>2.071194         </td><td>drug A           </td><td>live             </td></tr>\n",
       "</tbody>\n",
       "</table>\n"
      ],
      "text/latex": [
       "\\begin{tabular}{r|llllllll}\n",
       " id & weight & lenght & sex & ethnicity & tumer\\_size & drug & live\\\\\n",
       "\\hline\n",
       "\t 1                 & 75                & 148               & male              & asian             & 2.413294          & drug B            & dead             \\\\\n",
       "\t 2                 & 65                & 135               & femal             & asian             & 2.676575          & drug A            & live             \\\\\n",
       "\t 3                 & 70                & 136               & femal             & african americain & 1.479178          & drug A            & dead             \\\\\n",
       "\t 4                 & 83                & 129               & male              & african americain & 2.541543          & drug A            & live             \\\\\n",
       "\t 5                 & 54                & 139               & femal             & african americain & 1.711795          & drug A            & live             \\\\\n",
       "\t 6                 & 60                &  93               & male              & african americain & 2.071194          & drug A            & live             \\\\\n",
       "\\end{tabular}\n"
      ],
      "text/markdown": [
       "\n",
       "id | weight | lenght | sex | ethnicity | tumer_size | drug | live | \n",
       "|---|---|---|---|---|---|\n",
       "| 1                 | 75                | 148               | male              | asian             | 2.413294          | drug B            | dead              | \n",
       "| 2                 | 65                | 135               | femal             | asian             | 2.676575          | drug A            | live              | \n",
       "| 3                 | 70                | 136               | femal             | african americain | 1.479178          | drug A            | dead              | \n",
       "| 4                 | 83                | 129               | male              | african americain | 2.541543          | drug A            | live              | \n",
       "| 5                 | 54                | 139               | femal             | african americain | 1.711795          | drug A            | live              | \n",
       "| 6                 | 60                |  93               | male              | african americain | 2.071194          | drug A            | live              | \n",
       "\n",
       "\n"
      ],
      "text/plain": [
       "  id weight lenght sex   ethnicity         tumer_size drug   live\n",
       "1 1  75     148    male  asian             2.413294   drug B dead\n",
       "2 2  65     135    femal asian             2.676575   drug A live\n",
       "3 3  70     136    femal african americain 1.479178   drug A dead\n",
       "4 4  83     129    male  african americain 2.541543   drug A live\n",
       "5 5  54     139    femal african americain 1.711795   drug A live\n",
       "6 6  60      93    male  african americain 2.071194   drug A live"
      ]
     },
     "metadata": {},
     "output_type": "display_data"
    }
   ],
   "source": [
    "head(data_read)"
   ]
  },
  {
   "attachments": {
    "image.png": {
     "image/png": "[encoded data removed]"
    }
   },
   "cell_type": "markdown",
   "metadata": {},
   "source": [
    "![image.png](attachment:image.png)"
   ]
  },
  {
   "cell_type": "code",
   "execution_count": 54,
   "metadata": {},
   "outputs": [
    {
     "data": {
      "text/html": [
       "<table>\n",
       "<thead><tr><th scope=col>id</th><th scope=col>weight</th><th scope=col>lenght</th><th scope=col>sex</th><th scope=col>ethnicity</th><th scope=col>tumer_size</th><th scope=col>drug</th><th scope=col>live</th><th scope=col>BMI</th></tr></thead>\n",
       "<tbody>\n",
       "\t<tr><td>1                </td><td>75               </td><td>148              </td><td>male             </td><td>asian            </td><td>2.413294         </td><td>drug B           </td><td>dead             </td><td>34.24032         </td></tr>\n",
       "\t<tr><td>2                </td><td>65               </td><td>135              </td><td>femal            </td><td>asian            </td><td>2.676575         </td><td>drug A           </td><td>live             </td><td>35.66529         </td></tr>\n",
       "\t<tr><td>3                </td><td>70               </td><td>136              </td><td>femal            </td><td>african americain</td><td>1.479178         </td><td>drug A           </td><td>dead             </td><td>37.84602         </td></tr>\n",
       "\t<tr><td>4                </td><td>83               </td><td>129              </td><td>male             </td><td>african americain</td><td>2.541543         </td><td>drug A           </td><td>live             </td><td>49.87681         </td></tr>\n",
       "\t<tr><td>5                </td><td>54               </td><td>139              </td><td>femal            </td><td>african americain</td><td>1.711795         </td><td>drug A           </td><td>live             </td><td>27.94886         </td></tr>\n",
       "\t<tr><td>6                </td><td>60               </td><td> 93              </td><td>male             </td><td>african americain</td><td>2.071194         </td><td>drug A           </td><td>live             </td><td>69.37218         </td></tr>\n",
       "</tbody>\n",
       "</table>\n"
      ],
      "text/latex": [
       "\\begin{tabular}{r|lllllllll}\n",
       " id & weight & lenght & sex & ethnicity & tumer\\_size & drug & live & BMI\\\\\n",
       "\\hline\n",
       "\t 1                 & 75                & 148               & male              & asian             & 2.413294          & drug B            & dead              & 34.24032         \\\\\n",
       "\t 2                 & 65                & 135               & femal             & asian             & 2.676575          & drug A            & live              & 35.66529         \\\\\n",
       "\t 3                 & 70                & 136               & femal             & african americain & 1.479178          & drug A            & dead              & 37.84602         \\\\\n",
       "\t 4                 & 83                & 129               & male              & african americain & 2.541543          & drug A            & live              & 49.87681         \\\\\n",
       "\t 5                 & 54                & 139               & femal             & african americain & 1.711795          & drug A            & live              & 27.94886         \\\\\n",
       "\t 6                 & 60                &  93               & male              & african americain & 2.071194          & drug A            & live              & 69.37218         \\\\\n",
       "\\end{tabular}\n"
      ],
      "text/markdown": [
       "\n",
       "id | weight | lenght | sex | ethnicity | tumer_size | drug | live | BMI | \n",
       "|---|---|---|---|---|---|\n",
       "| 1                 | 75                | 148               | male              | asian             | 2.413294          | drug B            | dead              | 34.24032          | \n",
       "| 2                 | 65                | 135               | femal             | asian             | 2.676575          | drug A            | live              | 35.66529          | \n",
       "| 3                 | 70                | 136               | femal             | african americain | 1.479178          | drug A            | dead              | 37.84602          | \n",
       "| 4                 | 83                | 129               | male              | african americain | 2.541543          | drug A            | live              | 49.87681          | \n",
       "| 5                 | 54                | 139               | femal             | african americain | 1.711795          | drug A            | live              | 27.94886          | \n",
       "| 6                 | 60                |  93               | male              | african americain | 2.071194          | drug A            | live              | 69.37218          | \n",
       "\n",
       "\n"
      ],
      "text/plain": [
       "  id weight lenght sex   ethnicity         tumer_size drug   live BMI     \n",
       "1 1  75     148    male  asian             2.413294   drug B dead 34.24032\n",
       "2 2  65     135    femal asian             2.676575   drug A live 35.66529\n",
       "3 3  70     136    femal african americain 1.479178   drug A dead 37.84602\n",
       "4 4  83     129    male  african americain 2.541543   drug A live 49.87681\n",
       "5 5  54     139    femal african americain 1.711795   drug A live 27.94886\n",
       "6 6  60      93    male  african americain 2.071194   drug A live 69.37218"
      ]
     },
     "metadata": {},
     "output_type": "display_data"
    }
   ],
   "source": [
    "mutate(data_read,BMI=weight/(lenght/100)^2)"
   ]
  },
  {
   "attachments": {
    "image.png": {
     "image/png": "[encoded data removed]"
    }
   },
   "cell_type": "markdown",
   "metadata": {},
   "source": [
    "![image.png](attachment:image.png)"
   ]
  },
  {
   "cell_type": "code",
   "execution_count": 16,
   "metadata": {},
   "outputs": [
    {
     "data": {
      "text/html": [
       "<table>\n",
       "<thead><tr><th scope=col>avg_length</th><th scope=col>max_tumer</th><th scope=col>total</th></tr></thead>\n",
       "<tbody>\n",
       "\t<tr><td>130     </td><td>2.676575</td><td>6       </td></tr>\n",
       "</tbody>\n",
       "</table>\n"
      ],
      "text/latex": [
       "\\begin{tabular}{r|lll}\n",
       " avg\\_length & max\\_tumer & total\\\\\n",
       "\\hline\n",
       "\t 130      & 2.676575 & 6       \\\\\n",
       "\\end{tabular}\n"
      ],
      "text/markdown": [
       "\n",
       "avg_length | max_tumer | total | \n",
       "|---|\n",
       "| 130      | 2.676575 | 6        | \n",
       "\n",
       "\n"
      ],
      "text/plain": [
       "  avg_length max_tumer total\n",
       "1 130        2.676575  6    "
      ]
     },
     "metadata": {},
     "output_type": "display_data"
    }
   ],
   "source": [
    "data_read %>%  summarise(avg_length=mean(lenght),max_tumer=max(tumer_size),total=n())"
   ]
  },
  {
   "cell_type": "code",
   "execution_count": 17,
   "metadata": {},
   "outputs": [
    {
     "data": {
      "text/html": [
       "<table>\n",
       "<thead><tr><th scope=col>sex</th><th scope=col>avg_length</th><th scope=col>max_tumer</th><th scope=col>total</th></tr></thead>\n",
       "<tbody>\n",
       "\t<tr><td>femal   </td><td>136.6667</td><td>2.676575</td><td>3       </td></tr>\n",
       "\t<tr><td>male    </td><td>123.3333</td><td>2.541543</td><td>3       </td></tr>\n",
       "</tbody>\n",
       "</table>\n"
      ],
      "text/latex": [
       "\\begin{tabular}{r|llll}\n",
       " sex & avg\\_length & max\\_tumer & total\\\\\n",
       "\\hline\n",
       "\t femal    & 136.6667 & 2.676575 & 3       \\\\\n",
       "\t male     & 123.3333 & 2.541543 & 3       \\\\\n",
       "\\end{tabular}\n"
      ],
      "text/markdown": [
       "\n",
       "sex | avg_length | max_tumer | total | \n",
       "|---|---|\n",
       "| femal    | 136.6667 | 2.676575 | 3        | \n",
       "| male     | 123.3333 | 2.541543 | 3        | \n",
       "\n",
       "\n"
      ],
      "text/plain": [
       "  sex   avg_length max_tumer total\n",
       "1 femal 136.6667   2.676575  3    \n",
       "2 male  123.3333   2.541543  3    "
      ]
     },
     "metadata": {},
     "output_type": "display_data"
    }
   ],
   "source": [
    "data_read %>%  group_by(sex) %>% summarise(avg_length=mean(lenght),max_tumer=max(tumer_size),total=n())"
   ]
  },
  {
   "cell_type": "code",
   "execution_count": 18,
   "metadata": {},
   "outputs": [
    {
     "data": {
      "text/html": [
       "<table>\n",
       "<thead><tr><th scope=col>ethnicity</th><th scope=col>avg_length</th><th scope=col>max_tumer</th><th scope=col>total</th></tr></thead>\n",
       "<tbody>\n",
       "\t<tr><td>african americain</td><td>124.25           </td><td>2.541543         </td><td>4                </td></tr>\n",
       "\t<tr><td>asian            </td><td>141.50           </td><td>2.676575         </td><td>2                </td></tr>\n",
       "</tbody>\n",
       "</table>\n"
      ],
      "text/latex": [
       "\\begin{tabular}{r|llll}\n",
       " ethnicity & avg\\_length & max\\_tumer & total\\\\\n",
       "\\hline\n",
       "\t african americain & 124.25            & 2.541543          & 4                \\\\\n",
       "\t asian             & 141.50            & 2.676575          & 2                \\\\\n",
       "\\end{tabular}\n"
      ],
      "text/markdown": [
       "\n",
       "ethnicity | avg_length | max_tumer | total | \n",
       "|---|---|\n",
       "| african americain | 124.25            | 2.541543          | 4                 | \n",
       "| asian             | 141.50            | 2.676575          | 2                 | \n",
       "\n",
       "\n"
      ],
      "text/plain": [
       "  ethnicity         avg_length max_tumer total\n",
       "1 african americain 124.25     2.541543  4    \n",
       "2 asian             141.50     2.676575  2    "
      ]
     },
     "metadata": {},
     "output_type": "display_data"
    }
   ],
   "source": [
    "data_read %>%  group_by(ethnicity) %>% summarise(avg_length=mean(lenght),max_tumer=max(tumer_size),total=n())"
   ]
  },
  {
   "cell_type": "code",
   "execution_count": 3,
   "metadata": {},
   "outputs": [
    {
     "data": {
      "text/html": [
       "<table>\n",
       "<thead><tr><th scope=col>sex</th><th scope=col>ethnicity</th><th scope=col>avg_length</th><th scope=col>max_tumer</th><th scope=col>total</th></tr></thead>\n",
       "<tbody>\n",
       "\t<tr><td>femal            </td><td>african americain</td><td>137.5            </td><td>1.711795         </td><td>2                </td></tr>\n",
       "\t<tr><td>femal            </td><td>asian            </td><td>135.0            </td><td>2.676575         </td><td>1                </td></tr>\n",
       "\t<tr><td>male             </td><td>african americain</td><td>111.0            </td><td>2.541543         </td><td>2                </td></tr>\n",
       "\t<tr><td>male             </td><td>asian            </td><td>148.0            </td><td>2.413294         </td><td>1                </td></tr>\n",
       "</tbody>\n",
       "</table>\n"
      ],
      "text/latex": [
       "\\begin{tabular}{r|lllll}\n",
       " sex & ethnicity & avg\\_length & max\\_tumer & total\\\\\n",
       "\\hline\n",
       "\t femal             & african americain & 137.5             & 1.711795          & 2                \\\\\n",
       "\t femal             & asian             & 135.0             & 2.676575          & 1                \\\\\n",
       "\t male              & african americain & 111.0             & 2.541543          & 2                \\\\\n",
       "\t male              & asian             & 148.0             & 2.413294          & 1                \\\\\n",
       "\\end{tabular}\n"
      ],
      "text/markdown": [
       "\n",
       "sex | ethnicity | avg_length | max_tumer | total | \n",
       "|---|---|---|---|\n",
       "| femal             | african americain | 137.5             | 1.711795          | 2                 | \n",
       "| femal             | asian             | 135.0             | 2.676575          | 1                 | \n",
       "| male              | african americain | 111.0             | 2.541543          | 2                 | \n",
       "| male              | asian             | 148.0             | 2.413294          | 1                 | \n",
       "\n",
       "\n"
      ],
      "text/plain": [
       "  sex   ethnicity         avg_length max_tumer total\n",
       "1 femal african americain 137.5      1.711795  2    \n",
       "2 femal asian             135.0      2.676575  1    \n",
       "3 male  african americain 111.0      2.541543  2    \n",
       "4 male  asian             148.0      2.413294  1    "
      ]
     },
     "metadata": {},
     "output_type": "display_data"
    }
   ],
   "source": [
    "data_read %>%  group_by(sex,ethnicity) %>% summarise(avg_length=mean(lenght),max_tumer=max(tumer_size),total=n())"
   ]
  },
  {
   "cell_type": "code",
   "execution_count": null,
   "metadata": {},
   "outputs": [],
   "source": []
  },
  {
   "cell_type": "code",
   "execution_count": 6,
   "metadata": {},
   "outputs": [],
   "source": [
    "save.image(\"l2p1.RData\")"
   ]
  },
  {
   "cell_type": "code",
   "execution_count": 5,
   "metadata": {},
   "outputs": [],
   "source": [
    "load(\"l2p1.RData\")"
   ]
  },
  {
   "cell_type": "code",
   "execution_count": null,
   "metadata": {},
   "outputs": [],
   "source": []
  },
  {
   "cell_type": "code",
   "execution_count": null,
   "metadata": {},
   "outputs": [],
   "source": []
  }
 ],
 "metadata": {
  "kernelspec": {
   "display_name": "R",
   "language": "R",
   "name": "ir"
  },
  "language_info": {
   "codemirror_mode": "r",
   "file_extension": ".r",
   "mimetype": "text/x-r-source",
   "name": "R",
   "pygments_lexer": "r",
   "version": "3.4.3"
  }
 },
 "nbformat": 4,
 "nbformat_minor": 2
}
