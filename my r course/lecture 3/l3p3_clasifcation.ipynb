{
 "cells": [
  {
   "cell_type": "code",
   "execution_count": null,
   "metadata": {},
   "outputs": [],
   "source": [
    "#install.packages(\"caret\", dependencies = c(\"Depends\", \"Suggests\"))\n",
    "# install.packages(\"mlbench\")"
   ]
  },
  {
   "cell_type": "code",
   "execution_count": 50,
   "metadata": {},
   "outputs": [],
   "source": [
    "#https://topepo.github.io/caret/model-training-and-tuning.html#basic\n",
    "library(caret)\n",
    "library(doParallel)\n",
    "library(doMC) \n",
    "registerDoMC(cores = 4) "
   ]
  },
  {
   "cell_type": "code",
   "execution_count": 52,
   "metadata": {},
   "outputs": [
    {
     "data": {
      "text/html": [
       "<table>\n",
       "<thead><tr><th scope=col>V1</th><th scope=col>V2</th><th scope=col>V3</th><th scope=col>V4</th><th scope=col>V5</th><th scope=col>V6</th><th scope=col>V7</th><th scope=col>V8</th><th scope=col>V9</th><th scope=col>V10</th><th scope=col>⋯</th><th scope=col>V52</th><th scope=col>V53</th><th scope=col>V54</th><th scope=col>V55</th><th scope=col>V56</th><th scope=col>V57</th><th scope=col>V58</th><th scope=col>V59</th><th scope=col>V60</th><th scope=col>Class</th></tr></thead>\n",
       "<tbody>\n",
       "\t<tr><td>0.0200</td><td>0.0371</td><td>0.0428</td><td>0.0207</td><td>0.0954</td><td>0.0986</td><td>0.1539</td><td>0.1601</td><td>0.3109</td><td>0.2111</td><td>⋯     </td><td>0.0027</td><td>0.0065</td><td>0.0159</td><td>0.0072</td><td>0.0167</td><td>0.0180</td><td>0.0084</td><td>0.0090</td><td>0.0032</td><td>R     </td></tr>\n",
       "\t<tr><td>0.0453</td><td>0.0523</td><td>0.0843</td><td>0.0689</td><td>0.1183</td><td>0.2583</td><td>0.2156</td><td>0.3481</td><td>0.3337</td><td>0.2872</td><td>⋯     </td><td>0.0084</td><td>0.0089</td><td>0.0048</td><td>0.0094</td><td>0.0191</td><td>0.0140</td><td>0.0049</td><td>0.0052</td><td>0.0044</td><td>R     </td></tr>\n",
       "\t<tr><td>0.0262</td><td>0.0582</td><td>0.1099</td><td>0.1083</td><td>0.0974</td><td>0.2280</td><td>0.2431</td><td>0.3771</td><td>0.5598</td><td>0.6194</td><td>⋯     </td><td>0.0232</td><td>0.0166</td><td>0.0095</td><td>0.0180</td><td>0.0244</td><td>0.0316</td><td>0.0164</td><td>0.0095</td><td>0.0078</td><td>R     </td></tr>\n",
       "\t<tr><td>0.0100</td><td>0.0171</td><td>0.0623</td><td>0.0205</td><td>0.0205</td><td>0.0368</td><td>0.1098</td><td>0.1276</td><td>0.0598</td><td>0.1264</td><td>⋯     </td><td>0.0121</td><td>0.0036</td><td>0.0150</td><td>0.0085</td><td>0.0073</td><td>0.0050</td><td>0.0044</td><td>0.0040</td><td>0.0117</td><td>R     </td></tr>\n",
       "\t<tr><td>0.0762</td><td>0.0666</td><td>0.0481</td><td>0.0394</td><td>0.0590</td><td>0.0649</td><td>0.1209</td><td>0.2467</td><td>0.3564</td><td>0.4459</td><td>⋯     </td><td>0.0031</td><td>0.0054</td><td>0.0105</td><td>0.0110</td><td>0.0015</td><td>0.0072</td><td>0.0048</td><td>0.0107</td><td>0.0094</td><td>R     </td></tr>\n",
       "\t<tr><td>0.0286</td><td>0.0453</td><td>0.0277</td><td>0.0174</td><td>0.0384</td><td>0.0990</td><td>0.1201</td><td>0.1833</td><td>0.2105</td><td>0.3039</td><td>⋯     </td><td>0.0045</td><td>0.0014</td><td>0.0038</td><td>0.0013</td><td>0.0089</td><td>0.0057</td><td>0.0027</td><td>0.0051</td><td>0.0062</td><td>R     </td></tr>\n",
       "</tbody>\n",
       "</table>\n"
      ],
      "text/latex": [
       "\\begin{tabular}{r|lllllllllllllllllllllllllllllllllllllllllllllllllllllllllllll}\n",
       " V1 & V2 & V3 & V4 & V5 & V6 & V7 & V8 & V9 & V10 & ⋯ & V52 & V53 & V54 & V55 & V56 & V57 & V58 & V59 & V60 & Class\\\\\n",
       "\\hline\n",
       "\t 0.0200 & 0.0371 & 0.0428 & 0.0207 & 0.0954 & 0.0986 & 0.1539 & 0.1601 & 0.3109 & 0.2111 & ⋯      & 0.0027 & 0.0065 & 0.0159 & 0.0072 & 0.0167 & 0.0180 & 0.0084 & 0.0090 & 0.0032 & R     \\\\\n",
       "\t 0.0453 & 0.0523 & 0.0843 & 0.0689 & 0.1183 & 0.2583 & 0.2156 & 0.3481 & 0.3337 & 0.2872 & ⋯      & 0.0084 & 0.0089 & 0.0048 & 0.0094 & 0.0191 & 0.0140 & 0.0049 & 0.0052 & 0.0044 & R     \\\\\n",
       "\t 0.0262 & 0.0582 & 0.1099 & 0.1083 & 0.0974 & 0.2280 & 0.2431 & 0.3771 & 0.5598 & 0.6194 & ⋯      & 0.0232 & 0.0166 & 0.0095 & 0.0180 & 0.0244 & 0.0316 & 0.0164 & 0.0095 & 0.0078 & R     \\\\\n",
       "\t 0.0100 & 0.0171 & 0.0623 & 0.0205 & 0.0205 & 0.0368 & 0.1098 & 0.1276 & 0.0598 & 0.1264 & ⋯      & 0.0121 & 0.0036 & 0.0150 & 0.0085 & 0.0073 & 0.0050 & 0.0044 & 0.0040 & 0.0117 & R     \\\\\n",
       "\t 0.0762 & 0.0666 & 0.0481 & 0.0394 & 0.0590 & 0.0649 & 0.1209 & 0.2467 & 0.3564 & 0.4459 & ⋯      & 0.0031 & 0.0054 & 0.0105 & 0.0110 & 0.0015 & 0.0072 & 0.0048 & 0.0107 & 0.0094 & R     \\\\\n",
       "\t 0.0286 & 0.0453 & 0.0277 & 0.0174 & 0.0384 & 0.0990 & 0.1201 & 0.1833 & 0.2105 & 0.3039 & ⋯      & 0.0045 & 0.0014 & 0.0038 & 0.0013 & 0.0089 & 0.0057 & 0.0027 & 0.0051 & 0.0062 & R     \\\\\n",
       "\\end{tabular}\n"
      ],
      "text/markdown": [
       "\n",
       "V1 | V2 | V3 | V4 | V5 | V6 | V7 | V8 | V9 | V10 | ⋯ | V52 | V53 | V54 | V55 | V56 | V57 | V58 | V59 | V60 | Class | \n",
       "|---|---|---|---|---|---|\n",
       "| 0.0200 | 0.0371 | 0.0428 | 0.0207 | 0.0954 | 0.0986 | 0.1539 | 0.1601 | 0.3109 | 0.2111 | ⋯      | 0.0027 | 0.0065 | 0.0159 | 0.0072 | 0.0167 | 0.0180 | 0.0084 | 0.0090 | 0.0032 | R      | \n",
       "| 0.0453 | 0.0523 | 0.0843 | 0.0689 | 0.1183 | 0.2583 | 0.2156 | 0.3481 | 0.3337 | 0.2872 | ⋯      | 0.0084 | 0.0089 | 0.0048 | 0.0094 | 0.0191 | 0.0140 | 0.0049 | 0.0052 | 0.0044 | R      | \n",
       "| 0.0262 | 0.0582 | 0.1099 | 0.1083 | 0.0974 | 0.2280 | 0.2431 | 0.3771 | 0.5598 | 0.6194 | ⋯      | 0.0232 | 0.0166 | 0.0095 | 0.0180 | 0.0244 | 0.0316 | 0.0164 | 0.0095 | 0.0078 | R      | \n",
       "| 0.0100 | 0.0171 | 0.0623 | 0.0205 | 0.0205 | 0.0368 | 0.1098 | 0.1276 | 0.0598 | 0.1264 | ⋯      | 0.0121 | 0.0036 | 0.0150 | 0.0085 | 0.0073 | 0.0050 | 0.0044 | 0.0040 | 0.0117 | R      | \n",
       "| 0.0762 | 0.0666 | 0.0481 | 0.0394 | 0.0590 | 0.0649 | 0.1209 | 0.2467 | 0.3564 | 0.4459 | ⋯      | 0.0031 | 0.0054 | 0.0105 | 0.0110 | 0.0015 | 0.0072 | 0.0048 | 0.0107 | 0.0094 | R      | \n",
       "| 0.0286 | 0.0453 | 0.0277 | 0.0174 | 0.0384 | 0.0990 | 0.1201 | 0.1833 | 0.2105 | 0.3039 | ⋯      | 0.0045 | 0.0014 | 0.0038 | 0.0013 | 0.0089 | 0.0057 | 0.0027 | 0.0051 | 0.0062 | R      | \n",
       "\n",
       "\n"
      ],
      "text/plain": [
       "  V1     V2     V3     V4     V5     V6     V7     V8     V9     V10    ⋯\n",
       "1 0.0200 0.0371 0.0428 0.0207 0.0954 0.0986 0.1539 0.1601 0.3109 0.2111 ⋯\n",
       "2 0.0453 0.0523 0.0843 0.0689 0.1183 0.2583 0.2156 0.3481 0.3337 0.2872 ⋯\n",
       "3 0.0262 0.0582 0.1099 0.1083 0.0974 0.2280 0.2431 0.3771 0.5598 0.6194 ⋯\n",
       "4 0.0100 0.0171 0.0623 0.0205 0.0205 0.0368 0.1098 0.1276 0.0598 0.1264 ⋯\n",
       "5 0.0762 0.0666 0.0481 0.0394 0.0590 0.0649 0.1209 0.2467 0.3564 0.4459 ⋯\n",
       "6 0.0286 0.0453 0.0277 0.0174 0.0384 0.0990 0.1201 0.1833 0.2105 0.3039 ⋯\n",
       "  V52    V53    V54    V55    V56    V57    V58    V59    V60    Class\n",
       "1 0.0027 0.0065 0.0159 0.0072 0.0167 0.0180 0.0084 0.0090 0.0032 R    \n",
       "2 0.0084 0.0089 0.0048 0.0094 0.0191 0.0140 0.0049 0.0052 0.0044 R    \n",
       "3 0.0232 0.0166 0.0095 0.0180 0.0244 0.0316 0.0164 0.0095 0.0078 R    \n",
       "4 0.0121 0.0036 0.0150 0.0085 0.0073 0.0050 0.0044 0.0040 0.0117 R    \n",
       "5 0.0031 0.0054 0.0105 0.0110 0.0015 0.0072 0.0048 0.0107 0.0094 R    \n",
       "6 0.0045 0.0014 0.0038 0.0013 0.0089 0.0057 0.0027 0.0051 0.0062 R    "
      ]
     },
     "metadata": {},
     "output_type": "display_data"
    },
    {
     "data": {
      "text/html": [
       "<ol class=list-inline>\n",
       "\t<li>208</li>\n",
       "\t<li>61</li>\n",
       "</ol>\n"
      ],
      "text/latex": [
       "\\begin{enumerate*}\n",
       "\\item 208\n",
       "\\item 61\n",
       "\\end{enumerate*}\n"
      ],
      "text/markdown": [
       "1. 208\n",
       "2. 61\n",
       "\n",
       "\n"
      ],
      "text/plain": [
       "[1] 208  61"
      ]
     },
     "metadata": {},
     "output_type": "display_data"
    },
    {
     "data": {
      "text/plain": [
       "\n",
       "  M   R \n",
       "111  97 "
      ]
     },
     "metadata": {},
     "output_type": "display_data"
    }
   ],
   "source": [
    "library(mlbench)\n",
    "data(Sonar)\n",
    "head(Sonar)\n",
    "dim(Sonar)\n",
    "table(Sonar$Class)"
   ]
  },
  {
   "cell_type": "markdown",
   "metadata": {},
   "source": [
    "# 1 split your data into traning /testing "
   ]
  },
  {
   "cell_type": "code",
   "execution_count": 22,
   "metadata": {},
   "outputs": [],
   "source": [
    "set.seed(998)\n",
    "inTraining <- createDataPartition(Sonar$Class, p = .75, list = FALSE)\n",
    "training <- Sonar[ inTraining,]\n",
    "testing  <- Sonar[-inTraining,]"
   ]
  },
  {
   "cell_type": "markdown",
   "metadata": {},
   "source": [
    "# 2 configure your training (CV, ROC)"
   ]
  },
  {
   "cell_type": "code",
   "execution_count": 66,
   "metadata": {},
   "outputs": [],
   "source": [
    "fitControl <- trainControl(## 10-fold CV\n",
    "                           method = \"cv\",\n",
    "                           number = 10,\n",
    "                          classProbs = TRUE,\n",
    "                           ## Evaluate performance using \n",
    "                           ## the following function\n",
    "                           summaryFunction = twoClassSummary,\n",
    "                           savePredictions = T)"
   ]
  },
  {
   "cell_type": "markdown",
   "metadata": {},
   "source": [
    "# 3 traing your model using training split"
   ]
  },
  {
   "cell_type": "code",
   "execution_count": null,
   "metadata": {},
   "outputs": [],
   "source": []
  },
  {
   "cell_type": "code",
   "execution_count": 67,
   "metadata": {},
   "outputs": [
    {
     "name": "stdout",
     "output_type": "stream",
     "text": [
      "Iter   TrainDeviance   ValidDeviance   StepSize   Improve\n",
      "     1        1.3141            -nan     0.1000    0.0270\n",
      "     2        1.2492            -nan     0.1000    0.0207\n",
      "     3        1.1943            -nan     0.1000    0.0206\n",
      "     4        1.1486            -nan     0.1000    0.0084\n",
      "     5        1.1076            -nan     0.1000    0.0120\n",
      "     6        1.0625            -nan     0.1000    0.0143\n",
      "     7        1.0306            -nan     0.1000    0.0093\n",
      "     8        1.0068            -nan     0.1000   -0.0003\n",
      "     9        0.9627            -nan     0.1000    0.0165\n",
      "    10        0.9317            -nan     0.1000    0.0066\n",
      "    20        0.7272            -nan     0.1000   -0.0038\n",
      "    40        0.4615            -nan     0.1000    0.0001\n",
      "    60        0.3223            -nan     0.1000   -0.0032\n",
      "    80        0.2334            -nan     0.1000   -0.0007\n",
      "   100        0.1702            -nan     0.1000   -0.0006\n",
      "   120        0.1269            -nan     0.1000   -0.0005\n",
      "   140        0.0927            -nan     0.1000   -0.0002\n",
      "   150        0.0824            -nan     0.1000   -0.0004\n",
      "\n"
     ]
    },
    {
     "data": {
      "text/plain": [
       "Stochastic Gradient Boosting \n",
       "\n",
       "157 samples\n",
       " 60 predictor\n",
       "  2 classes: 'M', 'R' \n",
       "\n",
       "No pre-processing\n",
       "Resampling: Cross-Validated (10 fold) \n",
       "Summary of sample sizes: 141, 141, 142, 141, 141, 142, ... \n",
       "Resampling results across tuning parameters:\n",
       "\n",
       "  interaction.depth  n.trees  ROC        Sens       Spec     \n",
       "  1                   50      0.8684524  0.8111111  0.6964286\n",
       "  1                  100      0.8806300  0.7986111  0.7089286\n",
       "  1                  150      0.8918403  0.8472222  0.7642857\n",
       "  2                   50      0.9007192  0.8486111  0.7375000\n",
       "  2                  100      0.9069444  0.8694444  0.7928571\n",
       "  2                  150      0.9179812  0.8930556  0.8071429\n",
       "  3                   50      0.8805804  0.8569444  0.7821429\n",
       "  3                  100      0.8904266  0.8708333  0.7803571\n",
       "  3                  150      0.9017361  0.8819444  0.7928571\n",
       "\n",
       "Tuning parameter 'shrinkage' was held constant at a value of 0.1\n",
       "\n",
       "Tuning parameter 'n.minobsinnode' was held constant at a value of 10\n",
       "ROC was used to select the optimal model using the largest value.\n",
       "The final values used for the model were n.trees = 150, interaction.depth =\n",
       " 2, shrinkage = 0.1 and n.minobsinnode = 10."
      ]
     },
     "metadata": {},
     "output_type": "display_data"
    }
   ],
   "source": [
    "set.seed(825)\n",
    "gbmFit1 <- train(Class ~ ., data = training, \n",
    "                 method = \"gbm\", \n",
    "                 trControl = fitControl,\n",
    "                 ## This last option is actually one\n",
    "                 ## for gbm() that passes through\n",
    "                 verbose = TRUE,\n",
    "                ## Specify which metric to optimize\n",
    "                 metric = \"ROC\")\n",
    "gbmFit1"
   ]
  },
  {
   "cell_type": "code",
   "execution_count": null,
   "metadata": {},
   "outputs": [],
   "source": []
  },
  {
   "cell_type": "code",
   "execution_count": 56,
   "metadata": {},
   "outputs": [
    {
     "data": {},
     "metadata": {},
     "output_type": "display_data"
    },
    {
     "data": {
      "image/png": "[encoded data removed]",
      "text/plain": [
       "plot without title"
      ]
     },
     "metadata": {},
     "output_type": "display_data"
    }
   ],
   "source": [
    "ggplot(gbmFit1)  \n"
   ]
  },
  {
   "cell_type": "markdown",
   "metadata": {},
   "source": [
    "# 4 test your model using testing split"
   ]
  },
  {
   "cell_type": "code",
   "execution_count": 57,
   "metadata": {},
   "outputs": [
    {
     "data": {
      "text/html": [
       "<ol class=list-inline>\n",
       "\t<li>R</li>\n",
       "\t<li>R</li>\n",
       "\t<li>R</li>\n",
       "\t<li>R</li>\n",
       "\t<li>M</li>\n",
       "\t<li>M</li>\n",
       "</ol>\n"
      ],
      "text/latex": [
       "\\begin{enumerate*}\n",
       "\\item R\n",
       "\\item R\n",
       "\\item R\n",
       "\\item R\n",
       "\\item M\n",
       "\\item M\n",
       "\\end{enumerate*}\n"
      ],
      "text/markdown": [
       "1. R\n",
       "2. R\n",
       "3. R\n",
       "4. R\n",
       "5. M\n",
       "6. M\n",
       "\n",
       "\n"
      ],
      "text/plain": [
       "[1] R R R R M M\n",
       "Levels: M R"
      ]
     },
     "metadata": {},
     "output_type": "display_data"
    }
   ],
   "source": [
    "predict(gbmFit1, newdata = head(testing))\n"
   ]
  },
  {
   "cell_type": "code",
   "execution_count": 58,
   "metadata": {},
   "outputs": [
    {
     "data": {
      "text/html": [
       "<table>\n",
       "<thead><tr><th scope=col>M</th><th scope=col>R</th></tr></thead>\n",
       "<tbody>\n",
       "\t<tr><td>0.135555488</td><td>0.8644445  </td></tr>\n",
       "\t<tr><td>0.031129963</td><td>0.9688700  </td></tr>\n",
       "\t<tr><td>0.002474945</td><td>0.9975251  </td></tr>\n",
       "\t<tr><td>0.102249673</td><td>0.8977503  </td></tr>\n",
       "\t<tr><td>0.970998702</td><td>0.0290013  </td></tr>\n",
       "\t<tr><td>0.877082300</td><td>0.1229177  </td></tr>\n",
       "</tbody>\n",
       "</table>\n"
      ],
      "text/latex": [
       "\\begin{tabular}{r|ll}\n",
       " M & R\\\\\n",
       "\\hline\n",
       "\t 0.135555488 & 0.8644445  \\\\\n",
       "\t 0.031129963 & 0.9688700  \\\\\n",
       "\t 0.002474945 & 0.9975251  \\\\\n",
       "\t 0.102249673 & 0.8977503  \\\\\n",
       "\t 0.970998702 & 0.0290013  \\\\\n",
       "\t 0.877082300 & 0.1229177  \\\\\n",
       "\\end{tabular}\n"
      ],
      "text/markdown": [
       "\n",
       "M | R | \n",
       "|---|---|---|---|---|---|\n",
       "| 0.135555488 | 0.8644445   | \n",
       "| 0.031129963 | 0.9688700   | \n",
       "| 0.002474945 | 0.9975251   | \n",
       "| 0.102249673 | 0.8977503   | \n",
       "| 0.970998702 | 0.0290013   | \n",
       "| 0.877082300 | 0.1229177   | \n",
       "\n",
       "\n"
      ],
      "text/plain": [
       "  M           R        \n",
       "1 0.135555488 0.8644445\n",
       "2 0.031129963 0.9688700\n",
       "3 0.002474945 0.9975251\n",
       "4 0.102249673 0.8977503\n",
       "5 0.970998702 0.0290013\n",
       "6 0.877082300 0.1229177"
      ]
     },
     "metadata": {},
     "output_type": "display_data"
    }
   ],
   "source": [
    "predict(gbmFit1, newdata = head(testing), type = \"prob\")\n"
   ]
  },
  {
   "cell_type": "code",
   "execution_count": 84,
   "metadata": {},
   "outputs": [
    {
     "data": {
      "text/html": [
       "2"
      ],
      "text/latex": [
       "2"
      ],
      "text/markdown": [
       "2"
      ],
      "text/plain": [
       "[1] 2"
      ]
     },
     "metadata": {},
     "output_type": "display_data"
    },
    {
     "data": {
      "image/png": "[encoded data removed]",
      "text/plain": [
       "plot without title"
      ]
     },
     "metadata": {},
     "output_type": "display_data"
    }
   ],
   "source": [
    "# ROC for training\n",
    "#https://stackoverflow.com/questions/31138751/roc-curve-from-training-data-in-caret\n",
    "gbmFit1$finalModel$tuneValue$interaction.depth\n",
    "selectedIndices = gbmFit1$pred$interaction.depth==gbmFit1$finalModel$tuneValue$interaction.depth\n",
    "plot.roc(gbmFit1$pred$obs[selectedIndices],\n",
    "         gbmFit1$pred$M[selectedIndices],print.auc = TRUE,smooth=T)"
   ]
  },
  {
   "cell_type": "code",
   "execution_count": null,
   "metadata": {},
   "outputs": [],
   "source": [
    "#roc(response, predictor)"
   ]
  },
  {
   "cell_type": "code",
   "execution_count": 86,
   "metadata": {},
   "outputs": [
    {
     "data": {
      "image/png": "[encoded data removed]",
      "text/plain": [
       "plot without title"
      ]
     },
     "metadata": {},
     "output_type": "display_data"
    }
   ],
   "source": [
    "library(pROC)\n",
    "predcitd= predict(gbmFit1, newdata = (testing), type = \"prob\")\n",
    "plot.roc(testing$Class,predcitd$M,smooth=T,print.auc = TRUE)"
   ]
  },
  {
   "cell_type": "code",
   "execution_count": null,
   "metadata": {},
   "outputs": [],
   "source": []
  },
  {
   "cell_type": "markdown",
   "metadata": {},
   "source": [
    "# parameters auto-tunning"
   ]
  },
  {
   "cell_type": "code",
   "execution_count": null,
   "metadata": {},
   "outputs": [],
   "source": [
    "fitControl <- trainControl(method = \"repeatedcv\",\n",
    "                           number = 10,\n",
    "                           repeats = 10,\n",
    "                           ## Estimate class probabilities\n",
    "                           classProbs = TRUE,\n",
    "                           ## Evaluate performance using \n",
    "                           ## the following function\n",
    "                           summaryFunction = twoClassSummary)"
   ]
  },
  {
   "cell_type": "code",
   "execution_count": null,
   "metadata": {},
   "outputs": [],
   "source": [
    "gbmGrid2 <-  expand.grid(interaction.depth = c(1, 5, 9), \n",
    "                        n.trees = (1:30)*50, \n",
    "                        shrinkage = 0.1,\n",
    "                        n.minobsinnode = 20)"
   ]
  },
  {
   "cell_type": "code",
   "execution_count": null,
   "metadata": {},
   "outputs": [],
   "source": [
    "set.seed(825)\n",
    "gbmFit2 <- train(Class ~ ., data = training, \n",
    "                 method = \"gbm\", \n",
    "                 trControl = fitControl, \n",
    "                 verbose = FALSE, \n",
    "                 tuneGrid = gbmGrid,\n",
    "                 ## Specify which metric to optimize\n",
    "                 metric = \"ROC\")\n",
    "gbmFit3"
   ]
  },
  {
   "cell_type": "code",
   "execution_count": null,
   "metadata": {},
   "outputs": [],
   "source": []
  },
  {
   "cell_type": "markdown",
   "metadata": {},
   "source": [
    "# Parallel computing "
   ]
  },
  {
   "cell_type": "code",
   "execution_count": null,
   "metadata": {},
   "outputs": [],
   "source": [
    "#https://topepo.github.io/caret/model-training-and-tuning.html#basic\n",
    "library(caret)\n",
    "library(doParallel)\n",
    "library(doMC) \n",
    "registerDoMC(cores = 4) "
   ]
  },
  {
   "cell_type": "code",
   "execution_count": null,
   "metadata": {},
   "outputs": [],
   "source": [
    "fitControl <- trainControl(## 10-fold CV\n",
    "                           method = \"repeatedcv\",\n",
    "                           number = 10,\n",
    "                           ## repeated ten times\n",
    "                           repeats = 10)"
   ]
  },
  {
   "cell_type": "code",
   "execution_count": null,
   "metadata": {},
   "outputs": [],
   "source": [
    "set.seed(825)\n",
    "svmFit1 <- train(Class ~ ., data = training, \n",
    "                 method = \"svmLinear\", \n",
    "                 trControl = fitControl,\n",
    "                 ## This last option is actually one\n",
    "                 ## for gbm() that passes through\n",
    "                 verbose = FALSE,allowParallel= T)\n",
    "svmFit1"
   ]
  },
  {
   "cell_type": "code",
   "execution_count": null,
   "metadata": {},
   "outputs": [],
   "source": []
  },
  {
   "cell_type": "code",
   "execution_count": null,
   "metadata": {},
   "outputs": [],
   "source": []
  },
  {
   "cell_type": "code",
   "execution_count": null,
   "metadata": {},
   "outputs": [],
   "source": []
  },
  {
   "cell_type": "code",
   "execution_count": null,
   "metadata": {},
   "outputs": [],
   "source": []
  },
  {
   "cell_type": "code",
   "execution_count": null,
   "metadata": {},
   "outputs": [],
   "source": []
  }
 ],
 "metadata": {
  "kernelspec": {
   "display_name": "R",
   "language": "R",
   "name": "ir"
  },
  "language_info": {
   "codemirror_mode": "r",
   "file_extension": ".r",
   "mimetype": "text/x-r-source",
   "name": "R",
   "pygments_lexer": "r",
   "version": "3.4.3"
  }
 },
 "nbformat": 4,
 "nbformat_minor": 2
}
